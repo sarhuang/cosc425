{
 "cells": [
  {
   "cell_type": "code",
   "execution_count": 1,
   "id": "2a579f9d",
   "metadata": {},
   "outputs": [],
   "source": [
    "import numpy as np\n",
    "import pandas as pd\n",
    "import matplotlib.pyplot as plt\n",
    "\n",
    "from sklearn.neighbors import KNeighborsClassifier\n",
    "from sklearn.metrics import accuracy_score\n",
    "from sklearn.model_selection import train_test_split"
   ]
  },
  {
   "cell_type": "markdown",
   "id": "bb820323",
   "metadata": {},
   "source": [
    "Question 1 (15 points): Read in the data from the given CSV file. Down-select to create a\n",
    "dataframe that only includes three columns (sport, height, and weight) for all of the males\n",
    "who competed in either basketball or cycling, then perform dropna() to remove any missing\n",
    "rows. This should result in a dataframe with 3 columns and 450 rows. Convert the nonnumerical feature (sport) to numerical values. Further, convert the height values from meters\n",
    "to centimeters. Include in your report a brief description (1-2 sentences) of why it might be\n",
    "a good idea to use the data in centimeters rather than meters for k-nearest neighbors."
   ]
  },
  {
   "cell_type": "code",
   "execution_count": 11,
   "id": "c186dbfd",
   "metadata": {},
   "outputs": [
    {
     "name": "stdout",
     "output_type": "stream",
     "text": [
      "Index(['name', 'sport', 'nationality', 'sex', 'date_of_birth',\n",
      "       'age (at start of games)', 'height (m)', 'weight (kg)', 'BMI', 'gold',\n",
      "       'silver', 'bronze', 'Unnamed: 12', 'Unnamed: 13'],\n",
      "      dtype='object')\n"
     ]
    }
   ],
   "source": [
    "# Read in CSV here\n",
    "athletes_data = pd.read_csv(\"all-rio-2016-athletes-excel.csv\")\n",
    "#print(athletes_data.columns)\n",
    "\n",
    "athletes_data = pd.read_csv(\"all-rio-2016-athletes-excel.csv\")\n",
    "athletes_data = athletes_data[ (athletes_data['sport'] == \"basketball\") | (athletes_data['sport'] == \"cycling\")]\n",
    "athletes_data = athletes_data.loc[athletes_data[\"sex\"] == \"male\"]\n",
    "\n",
    "athletes_data = athletes_data.loc[:, [\"height (m)\", \"weight (kg)\", \"sport\"]]\n",
    "athletes_data = athletes_data.dropna(axis=0)\n",
    "athletes_data[\"height (m)\"] *= 100"
   ]
  },
  {
   "cell_type": "markdown",
   "id": "49ff85bf",
   "metadata": {},
   "source": [
    "Question 2 (15 points): For each class (basketball, cycling) and feature (height, weight),\n",
    "compute the following statistics: minimum, maximum, mean, standard deviation, and signalto-noise ratio (SNR = mean/standard deviation). Create a table that shows the statistics\n",
    "for each class and feature. Do any of the statistics give rise to concern? Provide a brief\n",
    "description (1-2 sentences) in the report."
   ]
  },
  {
   "cell_type": "code",
   "execution_count": null,
   "id": "8d86a9e6",
   "metadata": {},
   "outputs": [],
   "source": []
  },
  {
   "cell_type": "markdown",
   "id": "3a1d9782",
   "metadata": {},
   "source": [
    "Question 3 (5 points): Divide the data into training and test data using the standard 80-20\n",
    "ratio. Apply 10-fold cross-validation to the training data."
   ]
  },
  {
   "cell_type": "code",
   "execution_count": null,
   "id": "08e5efe6",
   "metadata": {},
   "outputs": [],
   "source": []
  },
  {
   "cell_type": "markdown",
   "id": "e6d6782d",
   "metadata": {},
   "source": [
    "Question 4 (10 points): Create a scatter plot of the training data, where you color the\n",
    "basketball data and cycling data differently. Make sure to label your axes and include a\n",
    "legend for the labels. Does the scatter plot indicate potential success or failure with respect\n",
    "to separating the two classes using KNN? Why? Provide a brief description (1-2 sentences)\n",
    "in the report."
   ]
  },
  {
   "cell_type": "code",
   "execution_count": null,
   "id": "7321d1f0",
   "metadata": {},
   "outputs": [],
   "source": []
  },
  {
   "cell_type": "markdown",
   "id": "db8f125c",
   "metadata": {},
   "source": [
    "Question 5 (25 points): Create and iterate over different numbers of neighbors from 1 to 21\n",
    "(inclusive, but odd numbers only). For each hyperparameter, calculate the mean and standard deviation of classification accuracy across the different folds of the data. Create a table\n",
    "for your report showing the mean and standard deviation for each hyperparameter. Select\n",
    "which hyperparameter to use based on the mean classification accuracy on the validation\n",
    "data. Note which hyperparameter value is selected in the report.\n"
   ]
  },
  {
   "cell_type": "code",
   "execution_count": null,
   "id": "6c1b1aee",
   "metadata": {},
   "outputs": [],
   "source": []
  },
  {
   "cell_type": "markdown",
   "id": "bd2b5d8a",
   "metadata": {},
   "source": [
    "Question 6 (10 points): ): Build a new K-nearest neighbor classifier using all your training\n",
    "data with the hyperparameter defined in Question 5. Use the resulting model to classify the\n",
    "test data (which haven’t used until now). Calculate and report overall training and test data\n",
    "performance.\n"
   ]
  },
  {
   "cell_type": "code",
   "execution_count": null,
   "id": "3529f75b",
   "metadata": {},
   "outputs": [],
   "source": []
  },
  {
   "cell_type": "markdown",
   "id": "2e088188",
   "metadata": {},
   "source": [
    "Question 7 (20 points): Create a 2D plot that visualizes the classifier’s performance (a\n",
    "decision boundary). Run a mesh of data through the classifier to determine basketball and\n",
    "cycling decision regions. Color them two different light colors (alpha=0.2) that are easy to\n",
    "visually separate. Then, overlay the test data using two different colors for basketball and\n",
    "cycling. Make sure all plots are labeled and that a legend is included."
   ]
  },
  {
   "cell_type": "code",
   "execution_count": null,
   "id": "0ddaf8ed",
   "metadata": {},
   "outputs": [],
   "source": []
  }
 ],
 "metadata": {
  "kernelspec": {
   "display_name": "Python 3 (ipykernel)",
   "language": "python",
   "name": "python3"
  },
  "language_info": {
   "codemirror_mode": {
    "name": "ipython",
    "version": 3
   },
   "file_extension": ".py",
   "mimetype": "text/x-python",
   "name": "python",
   "nbconvert_exporter": "python",
   "pygments_lexer": "ipython3",
   "version": "3.9.6"
  }
 },
 "nbformat": 4,
 "nbformat_minor": 5
}
