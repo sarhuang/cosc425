{
 "cells": [
  {
   "cell_type": "code",
   "execution_count": 2,
   "id": "d6bca5ad",
   "metadata": {},
   "outputs": [],
   "source": [
    "import numpy as np\n",
    "import matplotlib.pyplot as plt\n",
    "\n",
    "from sklearn.datasets import load_iris\n",
    "from sklearn.model_selection import train_test_split\n",
    "from sklearn import tree\n",
    "from sklearn.metrics import accuracy_score"
   ]
  },
  {
   "cell_type": "markdown",
   "id": "01a1aa81",
   "metadata": {},
   "source": [
    "## Loading and Exploring the Dataset\n",
    "\n",
    "The iris dataset is an extremely common dataset used in studying statistics and machine learning.  Here, we're going to load in the dataset, split it into training and testing sets, and poke around at its properties."
   ]
  },
  {
   "cell_type": "code",
   "execution_count": 7,
   "id": "7d95f8af",
   "metadata": {},
   "outputs": [],
   "source": [
    "iris = load_iris()\n",
    "X = iris.data\n",
    "y = iris.target\n",
    "X_train, X_test, y_train, y_test = train_test_split(X, y, test_size=0.33, random_state=42)"
   ]
  },
  {
   "cell_type": "markdown",
   "id": "bfa64769",
   "metadata": {},
   "source": [
    "## Visualizing the Data\n",
    "\n",
    "Since we know we're going to be using decision trees, it's worth looking at the data visually to see if decision trees might make sense.  Here, we're going to use a scatter plot to look at the training data."
   ]
  },
  {
   "cell_type": "code",
   "execution_count": 9,
   "id": "5ac9aa57",
   "metadata": {},
   "outputs": [
    {
     "data": {
      "text/plain": [
       "<matplotlib.collections.PathCollection at 0x197ff4868b0>"
      ]
     },
     "execution_count": 9,
     "metadata": {},
     "output_type": "execute_result"
    },
    {
     "data": {
      "image/png": "[encoded data removed]",
      "text/plain": [
       "<Figure size 432x288 with 1 Axes>"
      ]
     },
     "metadata": {
      "needs_background": "light"
     },
     "output_type": "display_data"
    }
   ],
   "source": [
    "plt.scatter(X_train[:,3], X_train[:,2], c=y_train)"
   ]
  },
  {
   "cell_type": "markdown",
   "id": "e788a8e0",
   "metadata": {},
   "source": [
    "## Creating a Decision Tree\n",
    "\n",
    "In class, we talked about the criterion for splitting being information gain based on entropy.  Here, we're going to create a scikit-learn decision tree using entropy as the criterion. "
   ]
  },
  {
   "cell_type": "code",
   "execution_count": 11,
   "id": "b88c4fdf",
   "metadata": {},
   "outputs": [],
   "source": [
    "clf = tree.DecisionTreeClassifier(criterion=\"entropy\")"
   ]
  },
  {
   "cell_type": "markdown",
   "id": "625a8f5b",
   "metadata": {},
   "source": [
    "## Training the Decision Tree\n",
    "\n",
    "We're ready to train the model now and see how it's doing! In scikit-learn, we use fit() to train the classifier.  Once we've done that, we can use predict() and accuracy_score() to see how it did on the training set."
   ]
  },
  {
   "cell_type": "code",
   "execution_count": 20,
   "id": "1713348a",
   "metadata": {},
   "outputs": [
    {
     "name": "stdout",
     "output_type": "stream",
     "text": [
      "0.98\n"
     ]
    }
   ],
   "source": [
    "clf.fit(X_train, y_train)\n",
    "y_predict = clf.predict(X_test)\n",
    "print(accuracy_score(y_test,y_predict))"
   ]
  },
  {
   "cell_type": "markdown",
   "id": "88783a2d",
   "metadata": {},
   "source": [
    "## Testing the Decision Tree\n",
    "\n",
    "We can now check to see how it does on the testing set! Did it actually learn something?"
   ]
  },
  {
   "cell_type": "code",
   "execution_count": 18,
   "id": "a3a2533d",
   "metadata": {},
   "outputs": [
    {
     "name": "stdout",
     "output_type": "stream",
     "text": [
      "0.98\n"
     ]
    }
   ],
   "source": [
    "y_predict = clf.predict(X_test)\n",
    "print(accuracy_score(y_test,y_predict))"
   ]
  },
  {
   "cell_type": "markdown",
   "id": "abe4df72",
   "metadata": {},
   "source": [
    "## Visualizing the Decision Tree\n",
    "\n",
    "We can create a figure depicting the decision tree that scikit-learn created."
   ]
  },
  {
   "cell_type": "code",
   "execution_count": null,
   "id": "16efe269",
   "metadata": {},
   "outputs": [],
   "source": [
    "plt.figure(dpi=500)"
   ]
  },
  {
   "cell_type": "markdown",
   "id": "2f464bb5",
   "metadata": {},
   "source": [
    "## Printing the Decision Tree\n",
    "\n",
    "We can also print the decision tree in text to further examine it.  This can be especially useful if your decision tree is too large to be visually inspected like that above."
   ]
  },
  {
   "cell_type": "code",
   "execution_count": null,
   "id": "fd4f9fb9",
   "metadata": {},
   "outputs": [],
   "source": []
  },
  {
   "cell_type": "markdown",
   "id": "0959588e",
   "metadata": {},
   "source": [
    "### Let's explore the parameters of decision trees\n",
    "\n",
    "To the [documentation](https://scikit-learn.org/stable/modules/generated/sklearn.tree.DecisionTreeClassifier.html#sklearn.tree.DecisionTreeClassifier)! "
   ]
  }
 ],
 "metadata": {
  "kernelspec": {
   "display_name": "Python 3 (ipykernel)",
   "language": "python",
   "name": "python3"
  },
  "language_info": {
   "codemirror_mode": {
    "name": "ipython",
    "version": 3
   },
   "file_extension": ".py",
   "mimetype": "text/x-python",
   "name": "python",
   "nbconvert_exporter": "python",
   "pygments_lexer": "ipython3",
   "version": "3.9.6"
  }
 },
 "nbformat": 4,
 "nbformat_minor": 5
}
