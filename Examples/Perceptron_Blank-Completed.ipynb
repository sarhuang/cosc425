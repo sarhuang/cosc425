{
 "cells": [
  {
   "cell_type": "code",
   "execution_count": 1,
   "id": "13059bd1",
   "metadata": {},
   "outputs": [],
   "source": [
    "import numpy as np\n",
    "import matplotlib.pyplot as plt"
   ]
  },
  {
   "cell_type": "markdown",
   "id": "7cc121a0",
   "metadata": {},
   "source": [
    "## Simple dataset creation\n",
    "\n",
    "Let's create a simple dataset from sklearn and plot it. Note that we want our labels to be -1 and 1."
   ]
  },
  {
   "cell_type": "code",
   "execution_count": 7,
   "id": "6124fd89",
   "metadata": {},
   "outputs": [
    {
     "data": {
      "image/png": "[encoded data removed]",
      "text/plain": [
       "<Figure size 432x288 with 1 Axes>"
      ]
     },
     "metadata": {
      "needs_background": "light"
     },
     "output_type": "display_data"
    }
   ],
   "source": [
    "from sklearn.datasets import make_blobs\n",
    "\n",
    "X, y = make_blobs(n_samples=150,n_features=2,\n",
    "                           centers=2,cluster_std=1.05,\n",
    "                           random_state=2)\n",
    "\n",
    "plt.scatter(X[:,0], X[:,1], c=y)\n",
    "y=2*y-1"
   ]
  },
  {
   "cell_type": "markdown",
   "id": "e8421478",
   "metadata": {},
   "source": [
    "## Perceptron Class\n",
    "\n",
    "Let's implement the perceptron class.  It will have both train() and test() functions as in the algorithm described in class."
   ]
  },
  {
   "cell_type": "code",
   "execution_count": 13,
   "id": "c97e2688",
   "metadata": {},
   "outputs": [],
   "source": [
    "class Perceptron:\n",
    "    def __init__(self):\n",
    "        return\n",
    "    \n",
    "    def train(self, X, y, max_iter=100):\n",
    "        w = np.zeros(len(X[0]))\n",
    "        b = 0\n",
    "        for n in range(max_iter):\n",
    "            for i in range(len(X)):\n",
    "                a = np.dot(w,X[i])+b\n",
    "                if (y[i]*a <= 0):\n",
    "                    w += y[i]*X[i]\n",
    "                    b += y[i]\n",
    "        self.w = w\n",
    "        self.b = b\n",
    "        return\n",
    "    \n",
    "    def test(self, x):\n",
    "        return np.sign(np.dot(self.w,x)+self.b)"
   ]
  },
  {
   "cell_type": "markdown",
   "id": "27e6b6d8",
   "metadata": {},
   "source": [
    "## Training and Testing \n",
    "\n",
    "We want to split our training and testing data as normal and then train and test on the dataset."
   ]
  },
  {
   "cell_type": "code",
   "execution_count": 14,
   "id": "ff5a6784",
   "metadata": {},
   "outputs": [
    {
     "name": "stdout",
     "output_type": "stream",
     "text": [
      "1.0\n"
     ]
    }
   ],
   "source": [
    "from sklearn.metrics import accuracy_score\n",
    "from sklearn.model_selection import train_test_split\n",
    "\n",
    "X_train, X_test, y_train, y_test = train_test_split(X,y,random_state=42,test_size=0.2)\n",
    "per = Perceptron()\n",
    "per.train(X_train,y_train)\n",
    "y_predict = [per.test(x) for x in X_test]\n",
    "print(accuracy_score(y_test,y_predict))"
   ]
  },
  {
   "cell_type": "markdown",
   "id": "885bc198",
   "metadata": {},
   "source": [
    "## Real Dataset\n",
    "\n",
    "Let's use scikit-learn's toy dataset breast cancer to evaluate how our perceptron does on real-world data. Don't forget to update y so that its labels are -1 and 1."
   ]
  },
  {
   "cell_type": "code",
   "execution_count": 20,
   "id": "0e51bb10",
   "metadata": {},
   "outputs": [
    {
     "name": "stdout",
     "output_type": "stream",
     "text": [
      "0.956140350877193\n"
     ]
    }
   ],
   "source": [
    "from sklearn.datasets import load_breast_cancer\n",
    "X, y = load_breast_cancer(return_X_y=True)\n",
    "y = 2*y-1\n",
    "X_train, X_test, y_train, y_test = train_test_split(X,y,random_state=42,test_size=0.2)\n",
    "per = Perceptron()\n",
    "per.train(X_train,y_train,max_iter=1000)\n",
    "y_predict = [per.test(x) for x in X_test]\n",
    "print(accuracy_score(y_test,y_predict))"
   ]
  },
  {
   "cell_type": "markdown",
   "id": "85b05c35",
   "metadata": {},
   "source": [
    "## Training and Testing\n",
    "\n",
    "Let's train and test on the real-world data."
   ]
  },
  {
   "cell_type": "code",
   "execution_count": null,
   "id": "24fb8ab2",
   "metadata": {},
   "outputs": [],
   "source": []
  },
  {
   "cell_type": "code",
   "execution_count": null,
   "id": "06fb7668",
   "metadata": {},
   "outputs": [],
   "source": []
  }
 ],
 "metadata": {
  "kernelspec": {
   "display_name": "Python 3 (ipykernel)",
   "language": "python",
   "name": "python3"
  },
  "language_info": {
   "codemirror_mode": {
    "name": "ipython",
    "version": 3
   },
   "file_extension": ".py",
   "mimetype": "text/x-python",
   "name": "python",
   "nbconvert_exporter": "python",
   "pygments_lexer": "ipython3",
   "version": "3.9.10"
  }
 },
 "nbformat": 4,
 "nbformat_minor": 5
}
