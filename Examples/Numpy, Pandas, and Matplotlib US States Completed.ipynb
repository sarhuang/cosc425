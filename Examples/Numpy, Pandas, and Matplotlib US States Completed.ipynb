{
 "cells": [
  {
   "cell_type": "markdown",
   "id": "01cd99b9",
   "metadata": {},
   "source": [
    "# Numpy, Pandas, and Matplotlib Example"
   ]
  },
  {
   "cell_type": "code",
   "execution_count": 46,
   "id": "cddd6d38",
   "metadata": {},
   "outputs": [],
   "source": [
    "import numpy as np\n",
    "import pandas as pd\n",
    "import matplotlib.pyplot as plt\n",
    "\n",
    "plt.rcParams[\"figure.figsize\"] = (20,10)\n",
    "plt.rcParams[\"font.size\"] =14"
   ]
  },
  {
   "cell_type": "markdown",
   "id": "69c7181d",
   "metadata": {},
   "source": [
    "### Practice with numpy\n",
    "\n",
    "Let's get started with generating some example arrays."
   ]
  },
  {
   "cell_type": "code",
   "execution_count": 47,
   "id": "61c8db02",
   "metadata": {},
   "outputs": [
    {
     "name": "stdout",
     "output_type": "stream",
     "text": [
      "A: [0 1 2 3 4 5 6 7 8 9]\n",
      "B: [ 0 10 20 30 40 50 60 70 80 90]\n",
      "C: [0.    0.125 0.25  0.375 0.5   0.625 0.75  0.875 1.   ]\n",
      "D: [0.5488135  0.71518937 0.60276338 0.54488318 0.4236548  0.64589411\n",
      " 0.43758721 0.891773   0.96366276 0.38344152]\n",
      "E: [39 87 46 88 81 37 25 77 72  9 20 80 69 79 47 64 82 99 88 49]\n",
      "F: [[0.46147936 0.78052918 0.11827443 0.63992102 0.14335329]\n",
      " [0.94466892 0.52184832 0.41466194 0.26455561 0.77423369]\n",
      " [0.45615033 0.56843395 0.0187898  0.6176355  0.61209572]\n",
      " [0.616934   0.94374808 0.6818203  0.3595079  0.43703195]\n",
      " [0.6976312  0.06022547 0.66676672 0.67063787 0.21038256]]\n"
     ]
    }
   ],
   "source": [
    "A = np.arange(0,10)\n",
    "print(\"A:\", A)\n",
    "\n",
    "B = np.arange(0,100,10)\n",
    "print(\"B:\", B)\n",
    "\n",
    "C = np.linspace(0,1,9)\n",
    "print(\"C:\", C)\n",
    "\n",
    "np.random.seed(0)\n",
    "D = np.random.random(10)\n",
    "print(\"D:\",D)\n",
    "\n",
    "E = np.random.randint(100, size=(20))\n",
    "print(\"E:\",E)\n",
    "\n",
    "F = np.random.random((5,5))\n",
    "print(\"F:\",F)"
   ]
  },
  {
   "cell_type": "markdown",
   "id": "68152fd9",
   "metadata": {},
   "source": [
    "Let's get some information about the size/shape/dimension of the data we generated."
   ]
  },
  {
   "cell_type": "code",
   "execution_count": 48,
   "id": "13c37861",
   "metadata": {},
   "outputs": [
    {
     "name": "stdout",
     "output_type": "stream",
     "text": [
      "Shape E: (20,)\n",
      "Shape F: (5, 5)\n",
      "Size E: 20\n",
      "Size F: 25\n",
      "Ndim E: 1\n",
      "Ndim F: 2\n"
     ]
    }
   ],
   "source": [
    "print(\"Shape E:\", E.shape)\n",
    "print(\"Shape F:\", F.shape)\n",
    "print(\"Size E:\", E.size)\n",
    "print(\"Size F:\", F.size)\n",
    "print(\"Ndim E:\", E.ndim)\n",
    "print(\"Ndim F:\", F.ndim)"
   ]
  },
  {
   "cell_type": "markdown",
   "id": "0daa5599",
   "metadata": {},
   "source": [
    "Let's practice indexing into and slicing the array."
   ]
  },
  {
   "cell_type": "code",
   "execution_count": 49,
   "id": "fbd00b48",
   "metadata": {},
   "outputs": [
    {
     "name": "stdout",
     "output_type": "stream",
     "text": [
      "[0 1 2 3 4 5 6 7 8 9]\n"
     ]
    }
   ],
   "source": [
    "print(A)\n",
    "# print(A[:5])\n",
    "# print(A[-1])\n",
    "# print(A[:-1])\n",
    "# print(A[1:-1])\n",
    "# print(A[::2])\n",
    "# print(A[::-1])"
   ]
  },
  {
   "cell_type": "markdown",
   "id": "82ee2a18",
   "metadata": {},
   "source": [
    "Let's now calculate with some data: addition, subtraction, multiplication, division, scalar multiplication, and statistics."
   ]
  },
  {
   "cell_type": "code",
   "execution_count": 50,
   "id": "9df3df95",
   "metadata": {},
   "outputs": [
    {
     "name": "stdout",
     "output_type": "stream",
     "text": [
      "[0.5488135  0.71518937 0.60276338 0.54488318 0.4236548  0.64589411\n",
      " 0.43758721 0.891773   0.96366276 0.38344152] [0.79172504 0.52889492 0.56804456 0.92559664 0.07103606 0.0871293\n",
      " 0.0202184  0.83261985 0.77815675 0.87001215]\n",
      "0.6157662833145425 0.18447489445957163 0.3834415188257777 0.9636627605010293\n"
     ]
    }
   ],
   "source": [
    "np.random.seed(0)\n",
    "X = np.random.random(10)\n",
    "Y = np.random.random(10)\n",
    "print(X,Y)\n",
    "Z = X+Y\n",
    "Z = X-Y\n",
    "Z = X*Y\n",
    "Z = X/Y\n",
    "Z = X*2\n",
    "print(np.mean(X), np.std(X), np.min(X), np.max(X))"
   ]
  },
  {
   "cell_type": "markdown",
   "id": "74c0c303",
   "metadata": {},
   "source": [
    "### Reading in the data\n",
    "\n",
    "Our first step is to read in the CSV file that contains the population data we're interested in working with."
   ]
  },
  {
   "cell_type": "code",
   "execution_count": 51,
   "id": "eed4fa3d",
   "metadata": {},
   "outputs": [
    {
     "name": "stdout",
     "output_type": "stream",
     "text": [
      "     state/region     ages  year   population\n",
      "0              AL  under18  2012    1117489.0\n",
      "1              AL    total  2012    4817528.0\n",
      "2              AL  under18  2010    1130966.0\n",
      "3              AL    total  2010    4785570.0\n",
      "4              AL  under18  2011    1125763.0\n",
      "...           ...      ...   ...          ...\n",
      "2539          USA    total  2010  309326295.0\n",
      "2540          USA  under18  2011   73902222.0\n",
      "2541          USA    total  2011  311582564.0\n",
      "2542          USA  under18  2012   73708179.0\n",
      "2543          USA    total  2012  313873685.0\n",
      "\n",
      "[2544 rows x 4 columns]\n"
     ]
    }
   ],
   "source": [
    "# Read in CSV here\n",
    "pop_df = pd.read_csv(\"data-USstates-master\\data-USstates-master\\state-population.csv\")\n",
    "print(pop_df)"
   ]
  },
  {
   "cell_type": "markdown",
   "id": "b8496fd3",
   "metadata": {},
   "source": [
    "We can see information about the data file through both info() and describe()."
   ]
  },
  {
   "cell_type": "code",
   "execution_count": 52,
   "id": "4a501523",
   "metadata": {},
   "outputs": [
    {
     "name": "stdout",
     "output_type": "stream",
     "text": [
      "<class 'pandas.core.frame.DataFrame'>\n",
      "RangeIndex: 2544 entries, 0 to 2543\n",
      "Data columns (total 4 columns):\n",
      " #   Column        Non-Null Count  Dtype  \n",
      "---  ------        --------------  -----  \n",
      " 0   state/region  2544 non-null   object \n",
      " 1   ages          2544 non-null   object \n",
      " 2   year          2544 non-null   int64  \n",
      " 3   population    2524 non-null   float64\n",
      "dtypes: float64(1), int64(1), object(2)\n",
      "memory usage: 79.6+ KB\n"
     ]
    },
    {
     "data": {
      "text/html": [
       "<div>\n",
       "<style scoped>\n",
       "    .dataframe tbody tr th:only-of-type {\n",
       "        vertical-align: middle;\n",
       "    }\n",
       "\n",
       "    .dataframe tbody tr th {\n",
       "        vertical-align: top;\n",
       "    }\n",
       "\n",
       "    .dataframe thead th {\n",
       "        text-align: right;\n",
       "    }\n",
       "</style>\n",
       "<table border=\"1\" class=\"dataframe\">\n",
       "  <thead>\n",
       "    <tr style=\"text-align: right;\">\n",
       "      <th></th>\n",
       "      <th>year</th>\n",
       "      <th>population</th>\n",
       "    </tr>\n",
       "  </thead>\n",
       "  <tbody>\n",
       "    <tr>\n",
       "      <th>count</th>\n",
       "      <td>2544.000000</td>\n",
       "      <td>2.524000e+03</td>\n",
       "    </tr>\n",
       "    <tr>\n",
       "      <th>mean</th>\n",
       "      <td>2001.500000</td>\n",
       "      <td>6.805558e+06</td>\n",
       "    </tr>\n",
       "    <tr>\n",
       "      <th>std</th>\n",
       "      <td>6.923547</td>\n",
       "      <td>2.855014e+07</td>\n",
       "    </tr>\n",
       "    <tr>\n",
       "      <th>min</th>\n",
       "      <td>1990.000000</td>\n",
       "      <td>1.013090e+05</td>\n",
       "    </tr>\n",
       "    <tr>\n",
       "      <th>25%</th>\n",
       "      <td>1995.750000</td>\n",
       "      <td>7.423805e+05</td>\n",
       "    </tr>\n",
       "    <tr>\n",
       "      <th>50%</th>\n",
       "      <td>2001.500000</td>\n",
       "      <td>1.597005e+06</td>\n",
       "    </tr>\n",
       "    <tr>\n",
       "      <th>75%</th>\n",
       "      <td>2007.250000</td>\n",
       "      <td>4.547104e+06</td>\n",
       "    </tr>\n",
       "    <tr>\n",
       "      <th>max</th>\n",
       "      <td>2013.000000</td>\n",
       "      <td>3.161288e+08</td>\n",
       "    </tr>\n",
       "  </tbody>\n",
       "</table>\n",
       "</div>"
      ],
      "text/plain": [
       "              year    population\n",
       "count  2544.000000  2.524000e+03\n",
       "mean   2001.500000  6.805558e+06\n",
       "std       6.923547  2.855014e+07\n",
       "min    1990.000000  1.013090e+05\n",
       "25%    1995.750000  7.423805e+05\n",
       "50%    2001.500000  1.597005e+06\n",
       "75%    2007.250000  4.547104e+06\n",
       "max    2013.000000  3.161288e+08"
      ]
     },
     "execution_count": 52,
     "metadata": {},
     "output_type": "execute_result"
    }
   ],
   "source": [
    "pop_df.info()\n",
    "pop_df.describe()"
   ]
  },
  {
   "cell_type": "markdown",
   "id": "015e4d0c",
   "metadata": {},
   "source": [
    "For convenience sake, we want to rename the column state/region to abbreviation."
   ]
  },
  {
   "cell_type": "code",
   "execution_count": 53,
   "id": "850803b7",
   "metadata": {},
   "outputs": [
    {
     "name": "stdout",
     "output_type": "stream",
     "text": [
      "     abbreviation     ages  year   population\n",
      "0              AL  under18  2012    1117489.0\n",
      "1              AL    total  2012    4817528.0\n",
      "2              AL  under18  2010    1130966.0\n",
      "3              AL    total  2010    4785570.0\n",
      "4              AL  under18  2011    1125763.0\n",
      "...           ...      ...   ...          ...\n",
      "2539          USA    total  2010  309326295.0\n",
      "2540          USA  under18  2011   73902222.0\n",
      "2541          USA    total  2011  311582564.0\n",
      "2542          USA  under18  2012   73708179.0\n",
      "2543          USA    total  2012  313873685.0\n",
      "\n",
      "[2544 rows x 4 columns]\n"
     ]
    }
   ],
   "source": [
    "# Rename column\n",
    "pop_df.rename(columns={\"state/region\":\"abbreviation\"}, inplace=True)\n",
    "print(pop_df)"
   ]
  },
  {
   "cell_type": "markdown",
   "id": "afe75738",
   "metadata": {},
   "source": [
    "### Down-selecting the Data\n",
    "\n",
    "Suppose we want to visualize how the population of Tennessee has changed based on this dataset. First, we want to select only the data associated with Tennessee and sort it based on the year.  We will create a new dataframe with only the Tennessee data. We can then sort by the year."
   ]
  },
  {
   "cell_type": "code",
   "execution_count": 54,
   "id": "f1e320b1",
   "metadata": {},
   "outputs": [
    {
     "name": "stdout",
     "output_type": "stream",
     "text": [
      "     abbreviation     ages  year  population\n",
      "2063           TN    total  1990   4894492.0\n",
      "2062           TN  under18  1990   1220200.0\n",
      "2060           TN    total  1991   4966587.0\n",
      "2061           TN  under18  1991   1233260.0\n",
      "2057           TN    total  1992   5049742.0\n",
      "2056           TN  under18  1992   1259458.0\n",
      "2059           TN  under18  1993   1285044.0\n",
      "2058           TN    total  1993   5137584.0\n",
      "2055           TN    total  1994   5231438.0\n",
      "2054           TN  under18  1994   1310988.0\n",
      "2053           TN  under18  1995   1331616.0\n",
      "2052           TN    total  1995   5326936.0\n",
      "2050           TN  under18  1996   1345723.0\n",
      "2051           TN    total  1996   5416643.0\n",
      "2047           TN  under18  1997   1359030.0\n",
      "2046           TN    total  1997   5499233.0\n",
      "2049           TN    total  1998   5570045.0\n",
      "2048           TN  under18  1998   1369987.0\n",
      "2043           TN  under18  1999   1385997.0\n",
      "2042           TN    total  1999   5638706.0\n",
      "2045           TN  under18  2000   1399685.0\n",
      "2044           TN    total  2000   5703719.0\n",
      "2041           TN  under18  2001   1407578.0\n",
      "2040           TN    total  2001   5750789.0\n",
      "2039           TN  under18  2002   1414857.0\n",
      "2038           TN    total  2002   5795918.0\n",
      "2035           TN  under18  2003   1424861.0\n",
      "2034           TN    total  2003   5847812.0\n",
      "2037           TN  under18  2004   1433343.0\n",
      "2036           TN    total  2004   5910809.0\n",
      "2033           TN  under18  2005   1449326.0\n",
      "2032           TN    total  2005   5991057.0\n",
      "2031           TN  under18  2006   1470166.0\n",
      "2030           TN    total  2006   6088766.0\n",
      "2027           TN  under18  2007   1482747.0\n",
      "2026           TN    total  2007   6175727.0\n",
      "2029           TN  under18  2008   1494354.0\n",
      "2028           TN    total  2008   6247411.0\n",
      "2023           TN  under18  2009   1494687.0\n",
      "2022           TN    total  2009   6306019.0\n",
      "2021           TN    total  2010   6356683.0\n",
      "2020           TN  under18  2010   1495090.0\n",
      "2019           TN  under18  2011   1491837.0\n",
      "2018           TN    total  2011   6398361.0\n",
      "2017           TN  under18  2012   1492689.0\n",
      "2016           TN    total  2012   6454914.0\n",
      "2025           TN  under18  2013   1491577.0\n",
      "2024           TN    total  2013   6495978.0\n"
     ]
    }
   ],
   "source": [
    "# Down-select data\n",
    "tn_df = pop_df[pop_df[\"abbreviation\"] == \"TN\"].sort_values(\"year\")\n",
    "print(tn_df)"
   ]
  },
  {
   "cell_type": "markdown",
   "id": "b65f6555",
   "metadata": {},
   "source": [
    "### Extracting Numpy Arrays from Dataframes\n",
    "\n",
    "Suppose we want to plot how the under 18 population and the total population has changed throughout this dataset.  We can extract the year, the under 18 population, and the total population into three separate numpy arrays."
   ]
  },
  {
   "cell_type": "code",
   "execution_count": 55,
   "id": "38e80df9",
   "metadata": {},
   "outputs": [],
   "source": [
    "# Extra Numpy Array\n",
    "years = np.array(tn_df[tn_df[\"ages\"] == \"total\"][\"year\"])\n",
    "under18 = np.array(tn_df[tn_df[\"ages\"] == \"under18\"][\"population\"])\n",
    "total = np.array(tn_df[tn_df[\"ages\"] == \"total\"][\"population\"])"
   ]
  },
  {
   "cell_type": "markdown",
   "id": "5126fbcc",
   "metadata": {},
   "source": [
    "## Plotting a Line Plot\n",
    "\n",
    "Now we're ready to plot how the populations are changing in a line plot."
   ]
  },
  {
   "cell_type": "code",
   "execution_count": 56,
   "id": "bbf70573",
   "metadata": {},
   "outputs": [
    {
     "data": {
      "image/png": "[encoded data removed]",
      "text/plain": [
       "<Figure size 1440x720 with 1 Axes>"
      ]
     },
     "metadata": {
      "needs_background": "light"
     },
     "output_type": "display_data"
    }
   ],
   "source": [
    "# Plot line plot. Don't forget axis labels!\n",
    "plt.plot(years, total, label=\"Total\")\n",
    "plt.plot(years, under18, label=\"Under 18\")\n",
    "plt.xlabel(\"Years\")\n",
    "plt.ylabel(\"Population Size\")\n",
    "plt.legend()\n",
    "plt.show()"
   ]
  },
  {
   "cell_type": "markdown",
   "id": "9c7b6d95",
   "metadata": {},
   "source": [
    "### Plotting a Bar Chart\n",
    "\n",
    "We can visualize this same information via a bar chart."
   ]
  },
  {
   "cell_type": "code",
   "execution_count": 57,
   "id": "baa5ebbe",
   "metadata": {},
   "outputs": [
    {
     "data": {
      "image/png": "[encoded data removed]",
      "text/plain": [
       "<Figure size 1440x720 with 1 Axes>"
      ]
     },
     "metadata": {
      "needs_background": "light"
     },
     "output_type": "display_data"
    }
   ],
   "source": [
    "# Bar chart\n",
    "plt.bar(years, total, label=\"Total\")\n",
    "plt.bar(years, under18, label=\"Under 18\")\n",
    "plt.xlabel(\"Years\")\n",
    "plt.ylabel(\"Population Size\")\n",
    "plt.legend()\n",
    "plt.show()"
   ]
  },
  {
   "cell_type": "markdown",
   "id": "08a65cfa",
   "metadata": {},
   "source": [
    "### Manipulating Data with Numpy\n",
    "\n",
    "Let's use numpy to calculate the fraction of the total population that is under 18 each year."
   ]
  },
  {
   "cell_type": "code",
   "execution_count": 58,
   "id": "13cb1687",
   "metadata": {},
   "outputs": [
    {
     "name": "stdout",
     "output_type": "stream",
     "text": [
      "[0.24930064 0.24831137 0.24941037 0.25012613 0.25059802 0.24997785\n",
      " 0.24844225 0.24713083 0.24595618 0.24580054 0.24539866 0.24476259\n",
      " 0.24411267 0.24365711 0.24249523 0.24191491 0.24145549 0.2400927\n",
      " 0.23919572 0.23702545 0.23519971 0.23315924 0.23124847 0.22961546]\n"
     ]
    },
    {
     "data": {
      "text/plain": [
       "<BarContainer object of 24 artists>"
      ]
     },
     "execution_count": 58,
     "metadata": {},
     "output_type": "execute_result"
    },
    {
     "data": {
      "image/png": "[encoded data removed]",
      "text/plain": [
       "<Figure size 1440x720 with 1 Axes>"
      ]
     },
     "metadata": {
      "needs_background": "light"
     },
     "output_type": "display_data"
    }
   ],
   "source": [
    "# Calculate and plot fraction under 18\n",
    "frac_under18 = under18/total\n",
    "print(frac_under18)\n",
    "plt.bar(years, frac_under18)"
   ]
  },
  {
   "cell_type": "markdown",
   "id": "7df7a50f",
   "metadata": {},
   "source": [
    "### Reading multiple CSV files into different data frames"
   ]
  },
  {
   "cell_type": "code",
   "execution_count": 59,
   "id": "32e769c0",
   "metadata": {},
   "outputs": [],
   "source": [
    "# Read in new CSVs into different data frames\n",
    "area_df = pd.read_csv(\"data-USstates-master/data-USstates-master/state-areas.csv\")\n",
    "abbrev_df = pd.read_csv(\"data-USstates-master/data-USstates-master/state-abbrevs.csv\")"
   ]
  },
  {
   "cell_type": "markdown",
   "id": "3cf423ad",
   "metadata": {},
   "source": [
    "### Merging multiple dataframes together\n",
    "\n",
    "If there are common columns across dataframes, you can merge them together."
   ]
  },
  {
   "cell_type": "code",
   "execution_count": 60,
   "id": "88e3dece",
   "metadata": {},
   "outputs": [
    {
     "name": "stdout",
     "output_type": "stream",
     "text": [
      "     abbreviation     ages  year  population    state  area (sq. mi)\n",
      "71             AK  under18  2001    188771.0   Alaska         656425\n",
      "69             AK  under18  2000    190615.0   Alaska         656425\n",
      "68             AK    total  2000    627963.0   Alaska         656425\n",
      "67             AK    total  1999    624779.0   Alaska         656425\n",
      "66             AK  under18  1999    191422.0   Alaska         656425\n",
      "...           ...      ...   ...         ...      ...            ...\n",
      "2418           WY    total  2003    503453.0  Wyoming          97818\n",
      "2419           WY  under18  2003    124182.0  Wyoming          97818\n",
      "2420           WY    total  2004    509106.0  Wyoming          97818\n",
      "2422           WY    total  2002    500017.0  Wyoming          97818\n",
      "2447           WY    total  1990    453690.0  Wyoming          97818\n",
      "\n",
      "[2448 rows x 6 columns]\n"
     ]
    }
   ],
   "source": [
    "# Merge data frames together\n",
    "cdf = pd.merge(pop_df, abbrev_df)\n",
    "cdf = pd.merge(cdf, area_df)\n",
    "cdf = cdf.sort_values(\"abbreviation\")\n",
    "print(cdf)"
   ]
  },
  {
   "cell_type": "markdown",
   "id": "36e4ce1e",
   "metadata": {},
   "source": [
    "### Downselecting based on Multiple Conditions\n",
    "\n",
    "We can use multiple conditions to downselect in a dataframe. For example, suppose we only want the total population for each state in the year 2013."
   ]
  },
  {
   "cell_type": "code",
   "execution_count": 61,
   "id": "9b3cab49",
   "metadata": {},
   "outputs": [
    {
     "name": "stdout",
     "output_type": "stream",
     "text": [
      "     abbreviation   ages  year  population                 state  \\\n",
      "87             AK  total  2013    735132.0                Alaska   \n",
      "9              AL  total  2013   4833722.0               Alabama   \n",
      "185            AR  total  2013   2959373.0              Arkansas   \n",
      "103            AZ  total  2013   6626624.0               Arizona   \n",
      "199            CA  total  2013  38332521.0            California   \n",
      "281            CO  total  2013   5268367.0              Colorado   \n",
      "295            CT  total  2013   3596080.0           Connecticut   \n",
      "391            DC  total  2013    646449.0  District of Columbia   \n",
      "375            DE  total  2013    925749.0              Delaware   \n",
      "473            FL  total  2013  19552860.0               Florida   \n",
      "486            GA  total  2013   9992167.0               Georgia   \n",
      "569            HI  total  2013   1404054.0                Hawaii   \n",
      "761            IA  total  2013   3090416.0                  Iowa   \n",
      "582            ID  total  2013   1612136.0                 Idaho   \n",
      "665            IL  total  2013  12882135.0              Illinois   \n",
      "678            IN  total  2013   6570902.0               Indiana   \n",
      "774            KS  total  2013   2893957.0                Kansas   \n",
      "857            KY  total  2013   4395295.0              Kentucky   \n",
      "870            LA  total  2013   4625470.0             Louisiana   \n",
      "1049           MA  total  2013   6692824.0         Massachusetts   \n",
      "966            MD  total  2013   5928814.0              Maryland   \n",
      "953            ME  total  2013   1328302.0                 Maine   \n",
      "1062           MI  total  2013   9895622.0              Michigan   \n",
      "1145           MN  total  2013   5420380.0             Minnesota   \n",
      "1241           MO  total  2013   6044171.0              Missouri   \n",
      "1158           MS  total  2013   2991207.0           Mississippi   \n",
      "1254           MT  total  2013   1015165.0               Montana   \n",
      "1623           NC  total  2013   9848060.0        North Carolina   \n",
      "1640           ND  total  2013    723393.0          North Dakota   \n",
      "1337           NE  total  2013   1868516.0              Nebraska   \n",
      "1433           NH  total  2013   1323459.0         New Hampshire   \n",
      "1446           NJ  total  2013   8899339.0            New Jersey   \n",
      "1527           NM  total  2013   2085287.0            New Mexico   \n",
      "1350           NV  total  2013   2790136.0                Nevada   \n",
      "1544           NY  total  2013  19651127.0              New York   \n",
      "1719           OH  total  2013  11570808.0                  Ohio   \n",
      "1736           OK  total  2013   3850568.0              Oklahoma   \n",
      "1815           OR  total  2013   3930065.0                Oregon   \n",
      "1832           PA  total  2013  12773801.0          Pennsylvania   \n",
      "1911           RI  total  2013   1051511.0          Rhode Island   \n",
      "1928           SC  total  2013   4774839.0        South Carolina   \n",
      "2007           SD  total  2013    844877.0          South Dakota   \n",
      "2024           TN  total  2013   6495978.0             Tennessee   \n",
      "2103           TX  total  2013  26448193.0                 Texas   \n",
      "2120           UT  total  2013   2900872.0                  Utah   \n",
      "2216           VA  total  2013   8260405.0              Virginia   \n",
      "2199           VT  total  2013    626630.0               Vermont   \n",
      "2295           WA  total  2013   6971406.0            Washington   \n",
      "2391           WI  total  2013   5742713.0             Wisconsin   \n",
      "2312           WV  total  2013   1854304.0         West Virginia   \n",
      "2408           WY  total  2013    582658.0               Wyoming   \n",
      "\n",
      "      area (sq. mi)  \n",
      "87           656425  \n",
      "9             52423  \n",
      "185           53182  \n",
      "103          114006  \n",
      "199          163707  \n",
      "281          104100  \n",
      "295            5544  \n",
      "391              68  \n",
      "375            1954  \n",
      "473           65758  \n",
      "486           59441  \n",
      "569           10932  \n",
      "761           56276  \n",
      "582           83574  \n",
      "665           57918  \n",
      "678           36420  \n",
      "774           82282  \n",
      "857           40411  \n",
      "870           51843  \n",
      "1049          10555  \n",
      "966           12407  \n",
      "953           35387  \n",
      "1062          96810  \n",
      "1145          86943  \n",
      "1241          69709  \n",
      "1158          48434  \n",
      "1254         147046  \n",
      "1623          53821  \n",
      "1640          70704  \n",
      "1337          77358  \n",
      "1433           9351  \n",
      "1446           8722  \n",
      "1527         121593  \n",
      "1350         110567  \n",
      "1544          54475  \n",
      "1719          44828  \n",
      "1736          69903  \n",
      "1815          98386  \n",
      "1832          46058  \n",
      "1911           1545  \n",
      "1928          32007  \n",
      "2007          77121  \n",
      "2024          42146  \n",
      "2103         268601  \n",
      "2120          84904  \n",
      "2216          42769  \n",
      "2199           9615  \n",
      "2295          71303  \n",
      "2391          65503  \n",
      "2312          24231  \n",
      "2408          97818  \n"
     ]
    }
   ],
   "source": [
    "# Down-select with multiple conditions\n",
    "df = cdf[(cdf[\"ages\"] == \"total\") & (cdf[\"year\"] == 2013)]\n",
    "print(df)"
   ]
  },
  {
   "cell_type": "markdown",
   "id": "9ef7f161",
   "metadata": {},
   "source": [
    "### Histograms\n",
    "\n",
    "Suppose we want to find out what the histogram of state populations looks like in 2013."
   ]
  },
  {
   "cell_type": "code",
   "execution_count": 62,
   "id": "eba92bb1",
   "metadata": {},
   "outputs": [
    {
     "data": {
      "text/plain": [
       "(array([25., 14.,  6.,  2.,  0.,  2.,  1.,  0.,  0.,  1.]),\n",
       " array([  582658. ,  4357644.3,  8132630.6, 11907616.9, 15682603.2,\n",
       "        19457589.5, 23232575.8, 27007562.1, 30782548.4, 34557534.7,\n",
       "        38332521. ]),\n",
       " <BarContainer object of 10 artists>)"
      ]
     },
     "execution_count": 62,
     "metadata": {},
     "output_type": "execute_result"
    },
    {
     "data": {
      "image/png": "[encoded data removed]",
      "text/plain": [
       "<Figure size 1440x720 with 1 Axes>"
      ]
     },
     "metadata": {
      "needs_background": "light"
     },
     "output_type": "display_data"
    }
   ],
   "source": [
    "# Histogram of state populations in 2013\n",
    "plt.hist(df[\"population\"])"
   ]
  },
  {
   "cell_type": "markdown",
   "id": "cb26e18c",
   "metadata": {},
   "source": [
    "### Finding Unique Elements\n",
    "\n",
    "We can use numpy and unique to find the array of unique elements from a numpy array."
   ]
  },
  {
   "cell_type": "code",
   "execution_count": 63,
   "id": "6aaee79e",
   "metadata": {},
   "outputs": [
    {
     "name": "stdout",
     "output_type": "stream",
     "text": [
      "['AK' 'AL' 'AR' 'AZ' 'CA' 'CO' 'CT' 'DC' 'DE' 'FL' 'GA' 'HI' 'IA' 'ID'\n",
      " 'IL' 'IN' 'KS' 'KY' 'LA' 'MA' 'MD' 'ME' 'MI' 'MN' 'MO' 'MS' 'MT' 'NC'\n",
      " 'ND' 'NE' 'NH' 'NJ' 'NM' 'NV' 'NY' 'OH' 'OK' 'OR' 'PA' 'RI' 'SC' 'SD'\n",
      " 'TN' 'TX' 'UT' 'VA' 'VT' 'WA' 'WI' 'WV' 'WY']\n"
     ]
    }
   ],
   "source": [
    "# Find unique list of states\n",
    "states = np.unique(cdf[\"abbreviation\"])\n",
    "print(states)"
   ]
  },
  {
   "cell_type": "markdown",
   "id": "1dd5e83e",
   "metadata": {},
   "source": [
    "### Boxplots\n",
    "\n",
    "Suppose we want to see how much populations have varied in states in this dataset.  Boxplots can be a convenient plotting tool.  Using the unique list of state abbreviations, we can find all of the populations for each state and create a boxplot."
   ]
  },
  {
   "cell_type": "code",
   "execution_count": 67,
   "id": "5652296c",
   "metadata": {
    "scrolled": true
   },
   "outputs": [
    {
     "data": {
      "image/png": "[encoded data removed]",
      "text/plain": [
       "<Figure size 1440x720 with 1 Axes>"
      ]
     },
     "metadata": {
      "needs_background": "light"
     },
     "output_type": "display_data"
    }
   ],
   "source": [
    "# Extract populations for each state and create the boxplots\n",
    "populations = []\n",
    "for state in states:\n",
    "    population = np.array(cdf[(cdf[\"abbreviation\"] == state) & (cdf[\"ages\"] == \"total\")][\"population\"])\n",
    "    populations.append(population)\n",
    "    \n",
    "plt.boxplot(populations)\n",
    "plt.xticks(range(1,len(populations)+1),states)\n",
    "plt.show()"
   ]
  },
  {
   "cell_type": "markdown",
   "id": "23aefd7e",
   "metadata": {},
   "source": [
    "### Scatter Plots\n",
    "\n",
    "We can visualize the population of the state in 2013 vs. the area of the state using scatter plots."
   ]
  },
  {
   "cell_type": "code",
   "execution_count": 65,
   "id": "7d351fe7",
   "metadata": {},
   "outputs": [
    {
     "data": {
      "image/png": "[encoded data removed]",
      "text/plain": [
       "<Figure size 1440x720 with 1 Axes>"
      ]
     },
     "metadata": {
      "needs_background": "light"
     },
     "output_type": "display_data"
    }
   ],
   "source": [
    "# Create the scatter plot of population vs. area and annotate the points\n",
    "states = np.unique(cdf[(cdf[\"ages\"] == \"total\") & (cdf[\"year\"] == 2013)][\"abbreviation\"])\n",
    "areas = np.array(cdf[(cdf[\"ages\"] == \"total\") & (cdf[\"year\"] == 2013)][\"area (sq. mi)\"])\n",
    "populations = np.array(cdf[(cdf[\"ages\"] == \"total\") & (cdf[\"year\"] == 2013)][\"population\"])\n",
    "\n",
    "plt.scatter(areas, populations)\n",
    "plt.xlabel(\"Area (Sq. Mi)\")\n",
    "plt.ylabel(\"Population\")\n",
    "\n",
    "for i in range(len(states)):\n",
    "    plt.annotate(states[i],(areas[i], populations[i]))"
   ]
  },
  {
   "cell_type": "markdown",
   "id": "6accd474",
   "metadata": {},
   "source": [
    "### What is a question would you like to answer based on the full combined dataset?"
   ]
  },
  {
   "cell_type": "code",
   "execution_count": null,
   "id": "dd056e11",
   "metadata": {},
   "outputs": [],
   "source": []
  }
 ],
 "metadata": {
  "kernelspec": {
   "display_name": "Python 3 (ipykernel)",
   "language": "python",
   "name": "python3"
  },
  "language_info": {
   "codemirror_mode": {
    "name": "ipython",
    "version": 3
   },
   "file_extension": ".py",
   "mimetype": "text/x-python",
   "name": "python",
   "nbconvert_exporter": "python",
   "pygments_lexer": "ipython3",
   "version": "3.9.10"
  }
 },
 "nbformat": 4,
 "nbformat_minor": 5
}
