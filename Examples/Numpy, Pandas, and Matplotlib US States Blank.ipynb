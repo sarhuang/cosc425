{
 "cells": [
  {
   "cell_type": "markdown",
   "id": "01cd99b9",
   "metadata": {},
   "source": [
    "# Numpy, Pandas, and Matplotlib Example"
   ]
  },
  {
   "cell_type": "code",
   "execution_count": 2,
   "id": "cddd6d38",
   "metadata": {},
   "outputs": [],
   "source": [
    "import numpy as np\n",
    "import pandas as pd\n",
    "import matplotlib.pyplot as plt\n",
    "\n",
    "plt.rcParams[\"figure.figsize\"] = (20,10)\n",
    "plt.rcParams[\"font.size\"] =14"
   ]
  },
  {
   "cell_type": "markdown",
   "id": "69c7181d",
   "metadata": {},
   "source": [
    "### Practice with numpy\n",
    "\n",
    "Let's get started with generating some example arrays."
   ]
  },
  {
   "cell_type": "code",
   "execution_count": 3,
   "id": "61c8db02",
   "metadata": {},
   "outputs": [
    {
     "name": "stdout",
     "output_type": "stream",
     "text": [
      "A: [0 1 2 3 4 5 6 7 8 9]\n",
      "B: [ 0 10 20 30 40 50 60 70 80 90]\n",
      "C: [0.    0.125 0.25  0.375 0.5   0.625 0.75  0.875 1.   ]\n",
      "D: [0.5488135  0.71518937 0.60276338 0.54488318 0.4236548  0.64589411\n",
      " 0.43758721 0.891773   0.96366276 0.38344152]\n",
      "E: [39 87 46 88 81 37 25 77 72  9 20 80 69 79 47 64 82 99 88 49]\n",
      "F: [[0.46147936 0.78052918 0.11827443 0.63992102 0.14335329]\n",
      " [0.94466892 0.52184832 0.41466194 0.26455561 0.77423369]\n",
      " [0.45615033 0.56843395 0.0187898  0.6176355  0.61209572]\n",
      " [0.616934   0.94374808 0.6818203  0.3595079  0.43703195]\n",
      " [0.6976312  0.06022547 0.66676672 0.67063787 0.21038256]]\n"
     ]
    }
   ],
   "source": [
    "A = np.arange(0,10)\n",
    "print(\"A:\", A)\n",
    "\n",
    "B = np.arange(0,100,10)\n",
    "print(\"B:\", B)\n",
    "\n",
    "C = np.linspace(0,1,9)\n",
    "print(\"C:\", C)\n",
    "\n",
    "np.random.seed(0)\n",
    "D = np.random.random(10)\n",
    "print(\"D:\",D)\n",
    "\n",
    "E = np.random.randint(100, size=(20))\n",
    "print(\"E:\",E)\n",
    "\n",
    "F = np.random.random((5,5))\n",
    "print(\"F:\",F)"
   ]
  },
  {
   "cell_type": "markdown",
   "id": "68152fd9",
   "metadata": {},
   "source": [
    "Let's get some information about the size/shape/dimension of the data we generated."
   ]
  },
  {
   "cell_type": "code",
   "execution_count": 4,
   "id": "13c37861",
   "metadata": {},
   "outputs": [
    {
     "name": "stdout",
     "output_type": "stream",
     "text": [
      "Shape E: (20,)\n",
      "Shape F: (5, 5)\n",
      "Size E: 20\n",
      "Size F: 25\n",
      "Ndim E: 1\n",
      "Ndim F: 2\n"
     ]
    }
   ],
   "source": [
    "print(\"Shape E:\", E.shape)\n",
    "print(\"Shape F:\", F.shape)\n",
    "print(\"Size E:\", E.size)\n",
    "print(\"Size F:\", F.size)\n",
    "print(\"Ndim E:\", E.ndim)\n",
    "print(\"Ndim F:\", F.ndim)"
   ]
  },
  {
   "cell_type": "markdown",
   "id": "0daa5599",
   "metadata": {},
   "source": [
    "Let's practice indexing into and slicing the array."
   ]
  },
  {
   "cell_type": "code",
   "execution_count": 9,
   "id": "fbd00b48",
   "metadata": {},
   "outputs": [
    {
     "name": "stdout",
     "output_type": "stream",
     "text": [
      "[0 1 2 3 4 5 6 7 8 9]\n",
      "[0 1 2 3 4]\n",
      "9\n",
      "[0 1 2 3 4 5 6 7 8]\n",
      "[1 2 3 4 5 6 7 8]\n",
      "[0 2 4 6 8]\n",
      "[9 8 7 6 5 4 3 2 1 0]\n"
     ]
    }
   ],
   "source": [
    "print(A)\n",
    "print(A[:5]) #up to the fifth index\n",
    "print(A[-1]) #gets you the first from the end\n",
    "print(A[:-1]) #from beginning but leave off last one from end\n",
    "print(A[1:-1]) #leave off first and last\n",
    "print(A[::2]) #two at a time\n",
    "print(A[::-1]) #reverse it"
   ]
  },
  {
   "cell_type": "markdown",
   "id": "82ee2a18",
   "metadata": {},
   "source": [
    "Let's now calculate with some data: addition, subtraction, multiplication, division, scalar multiplication, and statistics."
   ]
  },
  {
   "cell_type": "code",
   "execution_count": 14,
   "id": "9df3df95",
   "metadata": {},
   "outputs": [
    {
     "name": "stdout",
     "output_type": "stream",
     "text": [
      "[0.30157482 0.66017354 0.29007761 0.61801543 0.4287687  0.13547406\n",
      " 0.29828233 0.56996491 0.59087276 0.57432525]\n",
      "[0.65320082 0.65210327 0.43141844 0.8965466  0.36756187 0.43586493\n",
      " 0.89192336 0.80619399 0.70388858 0.10022689]\n",
      "\n",
      "\n",
      "[0.95477564 1.31227681 0.72149604 1.51456202 0.79633057 0.57133899\n",
      " 1.19020568 1.3761589  1.29476134 0.67455214]\n",
      "[0.19698892 0.43050132 0.12514483 0.55407963 0.15759903 0.05904839\n",
      " 0.26604497 0.45950228 0.41590859 0.05756283]\n",
      "0.44675294022997847 0.17087742394752628 0.13547406422245023 0.660173537492685\n"
     ]
    }
   ],
   "source": [
    "X = np.random.random(10)\n",
    "Y = np.random.random(10)\n",
    "print(X)\n",
    "print(Y)\n",
    "print('\\n')\n",
    "print(X+Y)\n",
    "print(X*Y)\n",
    "print(np.mean(X), np.std(X), np.min(X), np.max(X))"
   ]
  },
  {
   "cell_type": "markdown",
   "id": "74c0c303",
   "metadata": {},
   "source": [
    "### Reading in the data\n",
    "\n",
    "Our first step is to read in the CSV file that contains the population data we're interested in working with."
   ]
  },
  {
   "cell_type": "code",
   "execution_count": 33,
   "id": "eed4fa3d",
   "metadata": {},
   "outputs": [
    {
     "name": "stdout",
     "output_type": "stream",
     "text": [
      "     state/region     ages  year   population\n",
      "0              AL  under18  2012    1117489.0\n",
      "1              AL    total  2012    4817528.0\n",
      "2              AL  under18  2010    1130966.0\n",
      "3              AL    total  2010    4785570.0\n",
      "4              AL  under18  2011    1125763.0\n",
      "...           ...      ...   ...          ...\n",
      "2539          USA    total  2010  309326295.0\n",
      "2540          USA  under18  2011   73902222.0\n",
      "2541          USA    total  2011  311582564.0\n",
      "2542          USA  under18  2012   73708179.0\n",
      "2543          USA    total  2012  313873685.0\n",
      "\n",
      "[2544 rows x 4 columns]\n"
     ]
    }
   ],
   "source": [
    "# Read in CSV here\n",
    "pop_df = pd.read_csv(\"data-USstates-master/data-USstates-master/state-population.csv\")\n",
    "print(pop_df)"
   ]
  },
  {
   "cell_type": "markdown",
   "id": "b8496fd3",
   "metadata": {},
   "source": [
    "We can see information about the data file through both info() and describe()."
   ]
  },
  {
   "cell_type": "code",
   "execution_count": 34,
   "id": "4a501523",
   "metadata": {},
   "outputs": [
    {
     "name": "stdout",
     "output_type": "stream",
     "text": [
      "<class 'pandas.core.frame.DataFrame'>\n",
      "RangeIndex: 2544 entries, 0 to 2543\n",
      "Data columns (total 4 columns):\n",
      " #   Column        Non-Null Count  Dtype  \n",
      "---  ------        --------------  -----  \n",
      " 0   state/region  2544 non-null   object \n",
      " 1   ages          2544 non-null   object \n",
      " 2   year          2544 non-null   int64  \n",
      " 3   population    2524 non-null   float64\n",
      "dtypes: float64(1), int64(1), object(2)\n",
      "memory usage: 79.6+ KB\n",
      "None\n",
      "              year    population\n",
      "count  2544.000000  2.524000e+03\n",
      "mean   2001.500000  6.805558e+06\n",
      "std       6.923547  2.855014e+07\n",
      "min    1990.000000  1.013090e+05\n",
      "25%    1995.750000  7.423805e+05\n",
      "50%    2001.500000  1.597005e+06\n",
      "75%    2007.250000  4.547104e+06\n",
      "max    2013.000000  3.161288e+08\n"
     ]
    }
   ],
   "source": [
    "print(pop_df.info())\n",
    "print(pop_df.describe())"
   ]
  },
  {
   "cell_type": "markdown",
   "id": "015e4d0c",
   "metadata": {},
   "source": [
    "For convenience sake, we want to rename the column state/region to abbreviation."
   ]
  },
  {
   "cell_type": "code",
   "execution_count": 39,
   "id": "850803b7",
   "metadata": {},
   "outputs": [
    {
     "data": {
      "text/html": [
       "<div>\n",
       "<style scoped>\n",
       "    .dataframe tbody tr th:only-of-type {\n",
       "        vertical-align: middle;\n",
       "    }\n",
       "\n",
       "    .dataframe tbody tr th {\n",
       "        vertical-align: top;\n",
       "    }\n",
       "\n",
       "    .dataframe thead th {\n",
       "        text-align: right;\n",
       "    }\n",
       "</style>\n",
       "<table border=\"1\" class=\"dataframe\">\n",
       "  <thead>\n",
       "    <tr style=\"text-align: right;\">\n",
       "      <th></th>\n",
       "      <th>abbreviation</th>\n",
       "      <th>ages</th>\n",
       "      <th>year</th>\n",
       "      <th>population</th>\n",
       "    </tr>\n",
       "  </thead>\n",
       "  <tbody>\n",
       "    <tr>\n",
       "      <th>0</th>\n",
       "      <td>AL</td>\n",
       "      <td>under18</td>\n",
       "      <td>2012</td>\n",
       "      <td>1117489.0</td>\n",
       "    </tr>\n",
       "    <tr>\n",
       "      <th>1</th>\n",
       "      <td>AL</td>\n",
       "      <td>total</td>\n",
       "      <td>2012</td>\n",
       "      <td>4817528.0</td>\n",
       "    </tr>\n",
       "    <tr>\n",
       "      <th>2</th>\n",
       "      <td>AL</td>\n",
       "      <td>under18</td>\n",
       "      <td>2010</td>\n",
       "      <td>1130966.0</td>\n",
       "    </tr>\n",
       "    <tr>\n",
       "      <th>3</th>\n",
       "      <td>AL</td>\n",
       "      <td>total</td>\n",
       "      <td>2010</td>\n",
       "      <td>4785570.0</td>\n",
       "    </tr>\n",
       "    <tr>\n",
       "      <th>4</th>\n",
       "      <td>AL</td>\n",
       "      <td>under18</td>\n",
       "      <td>2011</td>\n",
       "      <td>1125763.0</td>\n",
       "    </tr>\n",
       "    <tr>\n",
       "      <th>...</th>\n",
       "      <td>...</td>\n",
       "      <td>...</td>\n",
       "      <td>...</td>\n",
       "      <td>...</td>\n",
       "    </tr>\n",
       "    <tr>\n",
       "      <th>2539</th>\n",
       "      <td>USA</td>\n",
       "      <td>total</td>\n",
       "      <td>2010</td>\n",
       "      <td>309326295.0</td>\n",
       "    </tr>\n",
       "    <tr>\n",
       "      <th>2540</th>\n",
       "      <td>USA</td>\n",
       "      <td>under18</td>\n",
       "      <td>2011</td>\n",
       "      <td>73902222.0</td>\n",
       "    </tr>\n",
       "    <tr>\n",
       "      <th>2541</th>\n",
       "      <td>USA</td>\n",
       "      <td>total</td>\n",
       "      <td>2011</td>\n",
       "      <td>311582564.0</td>\n",
       "    </tr>\n",
       "    <tr>\n",
       "      <th>2542</th>\n",
       "      <td>USA</td>\n",
       "      <td>under18</td>\n",
       "      <td>2012</td>\n",
       "      <td>73708179.0</td>\n",
       "    </tr>\n",
       "    <tr>\n",
       "      <th>2543</th>\n",
       "      <td>USA</td>\n",
       "      <td>total</td>\n",
       "      <td>2012</td>\n",
       "      <td>313873685.0</td>\n",
       "    </tr>\n",
       "  </tbody>\n",
       "</table>\n",
       "<p>2544 rows × 4 columns</p>\n",
       "</div>"
      ],
      "text/plain": [
       "     abbreviation     ages  year   population\n",
       "0              AL  under18  2012    1117489.0\n",
       "1              AL    total  2012    4817528.0\n",
       "2              AL  under18  2010    1130966.0\n",
       "3              AL    total  2010    4785570.0\n",
       "4              AL  under18  2011    1125763.0\n",
       "...           ...      ...   ...          ...\n",
       "2539          USA    total  2010  309326295.0\n",
       "2540          USA  under18  2011   73902222.0\n",
       "2541          USA    total  2011  311582564.0\n",
       "2542          USA  under18  2012   73708179.0\n",
       "2543          USA    total  2012  313873685.0\n",
       "\n",
       "[2544 rows x 4 columns]"
      ]
     },
     "execution_count": 39,
     "metadata": {},
     "output_type": "execute_result"
    }
   ],
   "source": [
    "# Rename column\n",
    "pop_df.rename(columns={\"state/region\":\"abbreviation\"})"
   ]
  },
  {
   "cell_type": "markdown",
   "id": "afe75738",
   "metadata": {},
   "source": [
    "### Down-selecting the Data\n",
    "\n",
    "Suppose we want to visualize how the population of Tennessee has changed based on this dataset. First, we want to select only the data associated with Tennessee and sort it based on the year.  We will create a new dataframe with only the Tennessee data. We can then sort by the year."
   ]
  },
  {
   "cell_type": "code",
   "execution_count": 32,
   "id": "f1e320b1",
   "metadata": {},
   "outputs": [
    {
     "ename": "KeyError",
     "evalue": "'abbreviation'",
     "output_type": "error",
     "traceback": [
      "\u001b[1;31m---------------------------------------------------------------------------\u001b[0m",
      "\u001b[1;31mKeyError\u001b[0m                                  Traceback (most recent call last)",
      "\u001b[1;32m~\\AppData\\Local\\Programs\\Python\\Python39\\lib\\site-packages\\pandas\\core\\indexes\\base.py\u001b[0m in \u001b[0;36mget_loc\u001b[1;34m(self, key, method, tolerance)\u001b[0m\n\u001b[0;32m   3080\u001b[0m             \u001b[1;32mtry\u001b[0m\u001b[1;33m:\u001b[0m\u001b[1;33m\u001b[0m\u001b[1;33m\u001b[0m\u001b[0m\n\u001b[1;32m-> 3081\u001b[1;33m                 \u001b[1;32mreturn\u001b[0m \u001b[0mself\u001b[0m\u001b[1;33m.\u001b[0m\u001b[0m_engine\u001b[0m\u001b[1;33m.\u001b[0m\u001b[0mget_loc\u001b[0m\u001b[1;33m(\u001b[0m\u001b[0mcasted_key\u001b[0m\u001b[1;33m)\u001b[0m\u001b[1;33m\u001b[0m\u001b[1;33m\u001b[0m\u001b[0m\n\u001b[0m\u001b[0;32m   3082\u001b[0m             \u001b[1;32mexcept\u001b[0m \u001b[0mKeyError\u001b[0m \u001b[1;32mas\u001b[0m \u001b[0merr\u001b[0m\u001b[1;33m:\u001b[0m\u001b[1;33m\u001b[0m\u001b[1;33m\u001b[0m\u001b[0m\n",
      "\u001b[1;32mpandas\\_libs\\index.pyx\u001b[0m in \u001b[0;36mpandas._libs.index.IndexEngine.get_loc\u001b[1;34m()\u001b[0m\n",
      "\u001b[1;32mpandas\\_libs\\index.pyx\u001b[0m in \u001b[0;36mpandas._libs.index.IndexEngine.get_loc\u001b[1;34m()\u001b[0m\n",
      "\u001b[1;32mpandas\\_libs\\hashtable_class_helper.pxi\u001b[0m in \u001b[0;36mpandas._libs.hashtable.PyObjectHashTable.get_item\u001b[1;34m()\u001b[0m\n",
      "\u001b[1;32mpandas\\_libs\\hashtable_class_helper.pxi\u001b[0m in \u001b[0;36mpandas._libs.hashtable.PyObjectHashTable.get_item\u001b[1;34m()\u001b[0m\n",
      "\u001b[1;31mKeyError\u001b[0m: 'abbreviation'",
      "\nThe above exception was the direct cause of the following exception:\n",
      "\u001b[1;31mKeyError\u001b[0m                                  Traceback (most recent call last)",
      "\u001b[1;32m~\\AppData\\Local\\Temp/ipykernel_14344/1546145757.py\u001b[0m in \u001b[0;36m<module>\u001b[1;34m\u001b[0m\n\u001b[0;32m      1\u001b[0m \u001b[1;31m# Down-select data\u001b[0m\u001b[1;33m\u001b[0m\u001b[1;33m\u001b[0m\u001b[1;33m\u001b[0m\u001b[0m\n\u001b[1;32m----> 2\u001b[1;33m \u001b[0mtn_df\u001b[0m \u001b[1;33m=\u001b[0m \u001b[0mpop_df\u001b[0m\u001b[1;33m[\u001b[0m\u001b[0mpop_df\u001b[0m\u001b[1;33m[\u001b[0m\u001b[1;34m\"abbreviation\"\u001b[0m\u001b[1;33m]\u001b[0m \u001b[1;33m==\u001b[0m \u001b[1;34m\"TN\"\u001b[0m\u001b[1;33m]\u001b[0m\u001b[1;33m\u001b[0m\u001b[1;33m\u001b[0m\u001b[0m\n\u001b[0m\u001b[0;32m      3\u001b[0m \u001b[0mtn_df\u001b[0m\u001b[1;33m.\u001b[0m\u001b[0msort_values\u001b[0m\u001b[1;33m(\u001b[0m\u001b[0mby\u001b[0m\u001b[1;33m=\u001b[0m\u001b[1;34m\"year\"\u001b[0m\u001b[1;33m,\u001b[0m \u001b[0minplace\u001b[0m\u001b[1;33m=\u001b[0m\u001b[1;32mTrue\u001b[0m\u001b[1;33m)\u001b[0m\u001b[1;33m\u001b[0m\u001b[1;33m\u001b[0m\u001b[0m\n\u001b[0;32m      4\u001b[0m \u001b[0mprint\u001b[0m\u001b[1;33m(\u001b[0m\u001b[0mtn_df\u001b[0m\u001b[1;33m)\u001b[0m\u001b[1;33m\u001b[0m\u001b[1;33m\u001b[0m\u001b[0m\n",
      "\u001b[1;32m~\\AppData\\Local\\Programs\\Python\\Python39\\lib\\site-packages\\pandas\\core\\frame.py\u001b[0m in \u001b[0;36m__getitem__\u001b[1;34m(self, key)\u001b[0m\n\u001b[0;32m   3022\u001b[0m             \u001b[1;32mif\u001b[0m \u001b[0mself\u001b[0m\u001b[1;33m.\u001b[0m\u001b[0mcolumns\u001b[0m\u001b[1;33m.\u001b[0m\u001b[0mnlevels\u001b[0m \u001b[1;33m>\u001b[0m \u001b[1;36m1\u001b[0m\u001b[1;33m:\u001b[0m\u001b[1;33m\u001b[0m\u001b[1;33m\u001b[0m\u001b[0m\n\u001b[0;32m   3023\u001b[0m                 \u001b[1;32mreturn\u001b[0m \u001b[0mself\u001b[0m\u001b[1;33m.\u001b[0m\u001b[0m_getitem_multilevel\u001b[0m\u001b[1;33m(\u001b[0m\u001b[0mkey\u001b[0m\u001b[1;33m)\u001b[0m\u001b[1;33m\u001b[0m\u001b[1;33m\u001b[0m\u001b[0m\n\u001b[1;32m-> 3024\u001b[1;33m             \u001b[0mindexer\u001b[0m \u001b[1;33m=\u001b[0m \u001b[0mself\u001b[0m\u001b[1;33m.\u001b[0m\u001b[0mcolumns\u001b[0m\u001b[1;33m.\u001b[0m\u001b[0mget_loc\u001b[0m\u001b[1;33m(\u001b[0m\u001b[0mkey\u001b[0m\u001b[1;33m)\u001b[0m\u001b[1;33m\u001b[0m\u001b[1;33m\u001b[0m\u001b[0m\n\u001b[0m\u001b[0;32m   3025\u001b[0m             \u001b[1;32mif\u001b[0m \u001b[0mis_integer\u001b[0m\u001b[1;33m(\u001b[0m\u001b[0mindexer\u001b[0m\u001b[1;33m)\u001b[0m\u001b[1;33m:\u001b[0m\u001b[1;33m\u001b[0m\u001b[1;33m\u001b[0m\u001b[0m\n\u001b[0;32m   3026\u001b[0m                 \u001b[0mindexer\u001b[0m \u001b[1;33m=\u001b[0m \u001b[1;33m[\u001b[0m\u001b[0mindexer\u001b[0m\u001b[1;33m]\u001b[0m\u001b[1;33m\u001b[0m\u001b[1;33m\u001b[0m\u001b[0m\n",
      "\u001b[1;32m~\\AppData\\Local\\Programs\\Python\\Python39\\lib\\site-packages\\pandas\\core\\indexes\\base.py\u001b[0m in \u001b[0;36mget_loc\u001b[1;34m(self, key, method, tolerance)\u001b[0m\n\u001b[0;32m   3081\u001b[0m                 \u001b[1;32mreturn\u001b[0m \u001b[0mself\u001b[0m\u001b[1;33m.\u001b[0m\u001b[0m_engine\u001b[0m\u001b[1;33m.\u001b[0m\u001b[0mget_loc\u001b[0m\u001b[1;33m(\u001b[0m\u001b[0mcasted_key\u001b[0m\u001b[1;33m)\u001b[0m\u001b[1;33m\u001b[0m\u001b[1;33m\u001b[0m\u001b[0m\n\u001b[0;32m   3082\u001b[0m             \u001b[1;32mexcept\u001b[0m \u001b[0mKeyError\u001b[0m \u001b[1;32mas\u001b[0m \u001b[0merr\u001b[0m\u001b[1;33m:\u001b[0m\u001b[1;33m\u001b[0m\u001b[1;33m\u001b[0m\u001b[0m\n\u001b[1;32m-> 3083\u001b[1;33m                 \u001b[1;32mraise\u001b[0m \u001b[0mKeyError\u001b[0m\u001b[1;33m(\u001b[0m\u001b[0mkey\u001b[0m\u001b[1;33m)\u001b[0m \u001b[1;32mfrom\u001b[0m \u001b[0merr\u001b[0m\u001b[1;33m\u001b[0m\u001b[1;33m\u001b[0m\u001b[0m\n\u001b[0m\u001b[0;32m   3084\u001b[0m \u001b[1;33m\u001b[0m\u001b[0m\n\u001b[0;32m   3085\u001b[0m         \u001b[1;32mif\u001b[0m \u001b[0mtolerance\u001b[0m \u001b[1;32mis\u001b[0m \u001b[1;32mnot\u001b[0m \u001b[1;32mNone\u001b[0m\u001b[1;33m:\u001b[0m\u001b[1;33m\u001b[0m\u001b[1;33m\u001b[0m\u001b[0m\n",
      "\u001b[1;31mKeyError\u001b[0m: 'abbreviation'"
     ]
    }
   ],
   "source": [
    "# Down-select data\n",
    "tn_df = pop_df[pop_df[\"abbreviation\"] == \"TN\"]\n",
    "tn_df.sort_values(by=\"year\", inplace=True)\n",
    "print(tn_df)"
   ]
  },
  {
   "cell_type": "markdown",
   "id": "b65f6555",
   "metadata": {},
   "source": [
    "### Extracting Numpy Arrays from Dataframes\n",
    "\n",
    "Suppose we want to plot how the under 18 population and the total population has changed throughout this dataset.  We can extract the year, the under 18 population, and the total population into three separate numpy arrays."
   ]
  },
  {
   "cell_type": "code",
   "execution_count": 31,
   "id": "38e80df9",
   "metadata": {},
   "outputs": [
    {
     "ename": "NameError",
     "evalue": "name 'tn_df' is not defined",
     "output_type": "error",
     "traceback": [
      "\u001b[1;31m---------------------------------------------------------------------------\u001b[0m",
      "\u001b[1;31mNameError\u001b[0m                                 Traceback (most recent call last)",
      "\u001b[1;32m~\\AppData\\Local\\Temp/ipykernel_14344/69675401.py\u001b[0m in \u001b[0;36m<module>\u001b[1;34m\u001b[0m\n\u001b[0;32m      1\u001b[0m \u001b[1;31m# Extra Numpy Array\u001b[0m\u001b[1;33m\u001b[0m\u001b[1;33m\u001b[0m\u001b[1;33m\u001b[0m\u001b[0m\n\u001b[1;32m----> 2\u001b[1;33m \u001b[0myears\u001b[0m \u001b[1;33m=\u001b[0m \u001b[0mnp\u001b[0m\u001b[1;33m.\u001b[0m\u001b[0marray\u001b[0m\u001b[1;33m(\u001b[0m\u001b[0mtn_df\u001b[0m\u001b[1;33m[\u001b[0m\u001b[0mtn_df\u001b[0m\u001b[1;33m[\u001b[0m\u001b[1;34m\"ages\"\u001b[0m\u001b[1;33m]\u001b[0m \u001b[1;33m==\u001b[0m \u001b[1;34m\"total\"\u001b[0m\u001b[1;33m]\u001b[0m\u001b[1;33m[\u001b[0m\u001b[1;34m\"year\"\u001b[0m\u001b[1;33m]\u001b[0m\u001b[1;33m)\u001b[0m\u001b[1;33m\u001b[0m\u001b[1;33m\u001b[0m\u001b[0m\n\u001b[0m\u001b[0;32m      3\u001b[0m \u001b[0mprint\u001b[0m\u001b[1;33m(\u001b[0m\u001b[0myears\u001b[0m\u001b[1;33m)\u001b[0m\u001b[1;33m\u001b[0m\u001b[1;33m\u001b[0m\u001b[0m\n",
      "\u001b[1;31mNameError\u001b[0m: name 'tn_df' is not defined"
     ]
    }
   ],
   "source": [
    "# Extra Numpy Array\n",
    "years = np.array(tn_df[tn_df[\"ages\"] == \"total\"][\"year\"])\n",
    "under18 = np.array(tn_df[tn_df[\"ages\"] == \"under18\"][\"population\"])\n",
    "total = np.array(tn_df[tn_df[\"ages\"] == \"total\"][\"population\"])\n",
    "\n",
    "print(total)"
   ]
  },
  {
   "cell_type": "markdown",
   "id": "5126fbcc",
   "metadata": {},
   "source": [
    "## Plotting a Line Plot\n",
    "\n",
    "Now we're ready to plot how the populations are changing in a line plot."
   ]
  },
  {
   "cell_type": "code",
   "execution_count": null,
   "id": "bbf70573",
   "metadata": {},
   "outputs": [],
   "source": [
    "# Plot line plot. Don't forget axis labels!\n",
    "plt.plot(years, total, label=\"Total\")\n",
    "plt.plot(years, under18, label=\"Under 18\")\n",
    "plt.xlabel(\"Years\")\n",
    "plt.ylabel(\"Population Size\")\n",
    "plt.legend()\n",
    "plt.show()"
   ]
  },
  {
   "cell_type": "markdown",
   "id": "9c7b6d95",
   "metadata": {},
   "source": [
    "### Plotting a Bar Chart\n",
    "\n",
    "We can visualize this same information via a bar chart."
   ]
  },
  {
   "cell_type": "code",
   "execution_count": null,
   "id": "baa5ebbe",
   "metadata": {},
   "outputs": [],
   "source": [
    "# Bar chart\n",
    "plt.bar(years, total, label=\"Total\")\n",
    "plt.bar(years, under18, label=\"Under 18\")\n",
    "plt.xlabel(\"Years\")\n",
    "plt.ylabel(\"Population Size\")\n",
    "plt.legend()\n",
    "plt.show()"
   ]
  },
  {
   "cell_type": "markdown",
   "id": "08a65cfa",
   "metadata": {},
   "source": [
    "### Manipulating Data with Numpy\n",
    "\n",
    "Let's use numpy to calculate the fraction of the total population that is under 18 each year."
   ]
  },
  {
   "cell_type": "code",
   "execution_count": null,
   "id": "13cb1687",
   "metadata": {},
   "outputs": [],
   "source": [
    "# Calculate and plot fraction under 18\n",
    "frac_under18 [ under18 / total\n",
    "print(frac_under18)\n",
    "plt.bar(years, frac_under18)"
   ]
  },
  {
   "cell_type": "markdown",
   "id": "7df7a50f",
   "metadata": {},
   "source": [
    "### Reading multiple CSV files into different data frames"
   ]
  },
  {
   "cell_type": "code",
   "execution_count": 37,
   "id": "32e769c0",
   "metadata": {},
   "outputs": [],
   "source": [
    "# Read in new CSVs into different data frames\n",
    "abbrev_df = pd.read_csv(\"data-USstates-master/data-USstates-master/state-abbrevs.csv\")\n",
    "area_df = pd.read_csv(\"data-USstates-master/data-USstates-master/state-areas.csv\")"
   ]
  },
  {
   "cell_type": "markdown",
   "id": "3cf423ad",
   "metadata": {},
   "source": [
    "### Merging multiple dataframes together\n",
    "\n",
    "If there are common columns across dataframes, you can merge them together."
   ]
  },
  {
   "cell_type": "code",
   "execution_count": 40,
   "id": "88e3dece",
   "metadata": {},
   "outputs": [
    {
     "ename": "MergeError",
     "evalue": "No common columns to perform merge on. Merge options: left_on=None, right_on=None, left_index=False, right_index=False",
     "output_type": "error",
     "traceback": [
      "\u001b[1;31m---------------------------------------------------------------------------\u001b[0m",
      "\u001b[1;31mMergeError\u001b[0m                                Traceback (most recent call last)",
      "\u001b[1;32m~\\AppData\\Local\\Temp/ipykernel_14344/3781172326.py\u001b[0m in \u001b[0;36m<module>\u001b[1;34m\u001b[0m\n\u001b[0;32m      1\u001b[0m \u001b[1;31m# Merge data frames together\u001b[0m\u001b[1;33m\u001b[0m\u001b[1;33m\u001b[0m\u001b[1;33m\u001b[0m\u001b[0m\n\u001b[1;32m----> 2\u001b[1;33m \u001b[0mcdf\u001b[0m \u001b[1;33m=\u001b[0m \u001b[0mpd\u001b[0m\u001b[1;33m.\u001b[0m\u001b[0mmerge\u001b[0m\u001b[1;33m(\u001b[0m\u001b[0mpop_df\u001b[0m\u001b[1;33m,\u001b[0m \u001b[0mabbrev_df\u001b[0m\u001b[1;33m)\u001b[0m\u001b[1;33m\u001b[0m\u001b[1;33m\u001b[0m\u001b[0m\n\u001b[0m\u001b[0;32m      3\u001b[0m \u001b[0mprint\u001b[0m\u001b[1;33m(\u001b[0m\u001b[0mcdf\u001b[0m\u001b[1;33m)\u001b[0m\u001b[1;33m\u001b[0m\u001b[1;33m\u001b[0m\u001b[0m\n",
      "\u001b[1;32m~\\AppData\\Local\\Programs\\Python\\Python39\\lib\\site-packages\\pandas\\core\\reshape\\merge.py\u001b[0m in \u001b[0;36mmerge\u001b[1;34m(left, right, how, on, left_on, right_on, left_index, right_index, sort, suffixes, copy, indicator, validate)\u001b[0m\n\u001b[0;32m     72\u001b[0m     \u001b[0mvalidate\u001b[0m\u001b[1;33m=\u001b[0m\u001b[1;32mNone\u001b[0m\u001b[1;33m,\u001b[0m\u001b[1;33m\u001b[0m\u001b[1;33m\u001b[0m\u001b[0m\n\u001b[0;32m     73\u001b[0m ) -> \"DataFrame\":\n\u001b[1;32m---> 74\u001b[1;33m     op = _MergeOperation(\n\u001b[0m\u001b[0;32m     75\u001b[0m         \u001b[0mleft\u001b[0m\u001b[1;33m,\u001b[0m\u001b[1;33m\u001b[0m\u001b[1;33m\u001b[0m\u001b[0m\n\u001b[0;32m     76\u001b[0m         \u001b[0mright\u001b[0m\u001b[1;33m,\u001b[0m\u001b[1;33m\u001b[0m\u001b[1;33m\u001b[0m\u001b[0m\n",
      "\u001b[1;32m~\\AppData\\Local\\Programs\\Python\\Python39\\lib\\site-packages\\pandas\\core\\reshape\\merge.py\u001b[0m in \u001b[0;36m__init__\u001b[1;34m(self, left, right, how, on, left_on, right_on, axis, left_index, right_index, sort, suffixes, copy, indicator, validate)\u001b[0m\n\u001b[0;32m    648\u001b[0m             \u001b[0mwarnings\u001b[0m\u001b[1;33m.\u001b[0m\u001b[0mwarn\u001b[0m\u001b[1;33m(\u001b[0m\u001b[0mmsg\u001b[0m\u001b[1;33m,\u001b[0m \u001b[0mUserWarning\u001b[0m\u001b[1;33m)\u001b[0m\u001b[1;33m\u001b[0m\u001b[1;33m\u001b[0m\u001b[0m\n\u001b[0;32m    649\u001b[0m \u001b[1;33m\u001b[0m\u001b[0m\n\u001b[1;32m--> 650\u001b[1;33m         \u001b[0mself\u001b[0m\u001b[1;33m.\u001b[0m\u001b[0m_validate_specification\u001b[0m\u001b[1;33m(\u001b[0m\u001b[1;33m)\u001b[0m\u001b[1;33m\u001b[0m\u001b[1;33m\u001b[0m\u001b[0m\n\u001b[0m\u001b[0;32m    651\u001b[0m \u001b[1;33m\u001b[0m\u001b[0m\n\u001b[0;32m    652\u001b[0m         \u001b[0mcross_col\u001b[0m \u001b[1;33m=\u001b[0m \u001b[1;32mNone\u001b[0m\u001b[1;33m\u001b[0m\u001b[1;33m\u001b[0m\u001b[0m\n",
      "\u001b[1;32m~\\AppData\\Local\\Programs\\Python\\Python39\\lib\\site-packages\\pandas\\core\\reshape\\merge.py\u001b[0m in \u001b[0;36m_validate_specification\u001b[1;34m(self)\u001b[0m\n\u001b[0;32m   1281\u001b[0m                 \u001b[0mcommon_cols\u001b[0m \u001b[1;33m=\u001b[0m \u001b[0mleft_cols\u001b[0m\u001b[1;33m.\u001b[0m\u001b[0mintersection\u001b[0m\u001b[1;33m(\u001b[0m\u001b[0mright_cols\u001b[0m\u001b[1;33m)\u001b[0m\u001b[1;33m\u001b[0m\u001b[1;33m\u001b[0m\u001b[0m\n\u001b[0;32m   1282\u001b[0m                 \u001b[1;32mif\u001b[0m \u001b[0mlen\u001b[0m\u001b[1;33m(\u001b[0m\u001b[0mcommon_cols\u001b[0m\u001b[1;33m)\u001b[0m \u001b[1;33m==\u001b[0m \u001b[1;36m0\u001b[0m\u001b[1;33m:\u001b[0m\u001b[1;33m\u001b[0m\u001b[1;33m\u001b[0m\u001b[0m\n\u001b[1;32m-> 1283\u001b[1;33m                     raise MergeError(\n\u001b[0m\u001b[0;32m   1284\u001b[0m                         \u001b[1;34m\"No common columns to perform merge on. \"\u001b[0m\u001b[1;33m\u001b[0m\u001b[1;33m\u001b[0m\u001b[0m\n\u001b[0;32m   1285\u001b[0m                         \u001b[1;34mf\"Merge options: left_on={self.left_on}, \"\u001b[0m\u001b[1;33m\u001b[0m\u001b[1;33m\u001b[0m\u001b[0m\n",
      "\u001b[1;31mMergeError\u001b[0m: No common columns to perform merge on. Merge options: left_on=None, right_on=None, left_index=False, right_index=False"
     ]
    }
   ],
   "source": [
    "# Merge data frames together\n",
    "cdf = pd.merge(pop_df, abbrev_df)\n",
    "cdf = pd.merge(cdf, area_df)\n",
    "print(cdf)"
   ]
  },
  {
   "cell_type": "markdown",
   "id": "36e4ce1e",
   "metadata": {},
   "source": [
    "### Downselecting based on Multiple Conditions\n",
    "\n",
    "We can use multiple conditions to downselect in a dataframe. For example, suppose we only want the total population for each state in the year 2013."
   ]
  },
  {
   "cell_type": "code",
   "execution_count": null,
   "id": "9b3cab49",
   "metadata": {},
   "outputs": [],
   "source": [
    "# Down-select with multiple conditions\n",
    "df = cdf[(cdf[\"ages\"] == \"total\") & (cdf[\"year\"] == 2013)]"
   ]
  },
  {
   "cell_type": "markdown",
   "id": "9ef7f161",
   "metadata": {},
   "source": [
    "### Histograms\n",
    "\n",
    "Suppose we want to find out what the histogram of state populations looks like in 2013."
   ]
  },
  {
   "cell_type": "code",
   "execution_count": null,
   "id": "eba92bb1",
   "metadata": {},
   "outputs": [],
   "source": [
    "# Histogram of state populations in 2013\n"
   ]
  },
  {
   "cell_type": "markdown",
   "id": "cb26e18c",
   "metadata": {},
   "source": [
    "### Finding Unique Elements\n",
    "\n",
    "We can use numpy and unique to find the array of unique elements from a numpy array."
   ]
  },
  {
   "cell_type": "code",
   "execution_count": null,
   "id": "6aaee79e",
   "metadata": {},
   "outputs": [],
   "source": [
    "# Find unique list of states\n"
   ]
  },
  {
   "cell_type": "markdown",
   "id": "1dd5e83e",
   "metadata": {},
   "source": [
    "### Boxplots\n",
    "\n",
    "Suppose we want to see how much populations have varied in states in this dataset.  Boxplots can be a convenient plotting tool.  Using the unique list of state abbreviations, we can find all of the populations for each state and create a boxplot."
   ]
  },
  {
   "cell_type": "code",
   "execution_count": null,
   "id": "5652296c",
   "metadata": {
    "scrolled": true
   },
   "outputs": [],
   "source": [
    "# Extract populations for each state and create the boxplots\n"
   ]
  },
  {
   "cell_type": "markdown",
   "id": "23aefd7e",
   "metadata": {},
   "source": [
    "### Scatter Plots\n",
    "\n",
    "We can visualize the population of the state in 2013 vs. the area of the state using scatter plots."
   ]
  },
  {
   "cell_type": "code",
   "execution_count": null,
   "id": "7d351fe7",
   "metadata": {},
   "outputs": [],
   "source": [
    "# Create the scatter plot of population vs. area and annotate the points\n"
   ]
  },
  {
   "cell_type": "markdown",
   "id": "6accd474",
   "metadata": {},
   "source": [
    "### What is a question would you like to answer based on the full combined dataset?"
   ]
  },
  {
   "cell_type": "code",
   "execution_count": null,
   "id": "dd056e11",
   "metadata": {},
   "outputs": [],
   "source": []
  }
 ],
 "metadata": {
  "kernelspec": {
   "display_name": "Python 3 (ipykernel)",
   "language": "python",
   "name": "python3"
  },
  "language_info": {
   "codemirror_mode": {
    "name": "ipython",
    "version": 3
   },
   "file_extension": ".py",
   "mimetype": "text/x-python",
   "name": "python",
   "nbconvert_exporter": "python",
   "pygments_lexer": "ipython3",
   "version": "3.9.6"
  }
 },
 "nbformat": 4,
 "nbformat_minor": 5
}
