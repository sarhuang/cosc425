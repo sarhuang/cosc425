{
 "cells": [
  {
   "cell_type": "code",
   "execution_count": null,
   "id": "768b605d",
   "metadata": {},
   "outputs": [],
   "source": [
    "import numpy as np"
   ]
  },
  {
   "cell_type": "markdown",
   "id": "f7650381",
   "metadata": {},
   "source": [
    "## Calculate the Distance\n",
    "\n",
    "Implement the distance formula.  Note: there are a bunch of different ways you can do this in Python."
   ]
  },
  {
   "cell_type": "code",
   "execution_count": null,
   "id": "7ec0b3e7",
   "metadata": {},
   "outputs": [],
   "source": [
    "def distance(x, y):\n",
    "    temp = x - y\n",
    "    sum_sq = np.dot(temp.T, temp)\n",
    "    return np.sqrt(sum_sq)"
   ]
  },
  {
   "cell_type": "markdown",
   "id": "37132786",
   "metadata": {},
   "source": [
    "## Calculating All-Pairs Distances\n",
    "\n",
    "Create a function that takes two values: n (the number of values to check) and d (the dimension).\n",
    "\n",
    "Create n random vectors of d-dimensions. Calculate the distance divided by sqrt(d) between each pair and return the vector."
   ]
  },
  {
   "cell_type": "code",
   "execution_count": null,
   "id": "b3f9a16d",
   "metadata": {},
   "outputs": [],
   "source": [
    "def all_pairs_distances(n, d):\n",
    "    x = np.random.rand(n,d)\n",
    "    distances = []\n",
    "    for i in range(n):\n",
    "        for j in range(i+1,n):\n",
    "            dist = distance(x[i], x[j])\n",
    "            distances.append(dist/np.sqrt(d))\n",
    "    return distances"
   ]
  },
  {
   "cell_type": "markdown",
   "id": "17723e12",
   "metadata": {},
   "source": [
    "## Plot It\n",
    "\n",
    "Create 100 vectors for different numbers of dimensions and plot them using plt.hist()."
   ]
  },
  {
   "cell_type": "code",
   "execution_count": null,
   "id": "70dfc5a2",
   "metadata": {},
   "outputs": [],
   "source": [
    "#values = [2, 8, 32, 128, 512]\n",
    "values = [2]\n",
    "bins = [0.01*i for i in range(100)]\n",
    "import matplotlib.pyplot as plt\n",
    "for i in values:\n",
    "    distances = all_pairs_distances(100, i)\n",
    "    plt.hist(distances, label=\"d=\"+str(i), bins=bins, alpha=0.5)\n",
    "    plt.xlim(0,1)\n",
    "    plt.ylim(0,2000)\n",
    "plt.legend()\n",
    "plt.xlabel(\"distance/sqrt(dimensionality)\")\n",
    "plt.ylabel(\"# of pairs of points with that distance\")"
   ]
  },
  {
   "cell_type": "code",
   "execution_count": null,
   "id": "d40b33f3",
   "metadata": {},
   "outputs": [],
   "source": []
  }
 ],
 "metadata": {
  "kernelspec": {
   "display_name": "Python 3 (ipykernel)",
   "language": "python",
   "name": "python3"
  },
  "language_info": {
   "codemirror_mode": {
    "name": "ipython",
    "version": 3
   },
   "file_extension": ".py",
   "mimetype": "text/x-python",
   "name": "python",
   "nbconvert_exporter": "python",
   "pygments_lexer": "ipython3",
   "version": "3.9.10"
  }
 },
 "nbformat": 4,
 "nbformat_minor": 5
}
