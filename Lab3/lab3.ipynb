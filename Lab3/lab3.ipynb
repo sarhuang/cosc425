{
 "cells": [
  {
   "cell_type": "code",
   "execution_count": 1,
   "id": "2a579f9d",
   "metadata": {},
   "outputs": [
    {
     "name": "stderr",
     "output_type": "stream",
     "text": [
      "c:\\Users\\Sarah\\AppData\\Local\\Programs\\Python\\Python39\\lib\\site-packages\\scipy\\__init__.py:146: UserWarning: A NumPy version >=1.16.5 and <1.23.0 is required for this version of SciPy (detected version 1.26.0\n",
      "  warnings.warn(f\"A NumPy version >={np_minversion} and <{np_maxversion}\"\n"
     ]
    }
   ],
   "source": [
    "import numpy as np\n",
    "import pandas as pd\n",
    "import matplotlib.pyplot as plt\n",
    "import cv2\n",
    "\n",
    "from sklearn.cluster import KMeans\n",
    "from sklearn.metrics import accuracy_score\n",
    "from sklearn.model_selection import train_test_split\n"
   ]
  },
  {
   "cell_type": "markdown",
   "id": "bb820323",
   "metadata": {},
   "source": [
    "Question 1 (40 points): Create a function that takes as input the image file name and\n",
    "the number of colors to find (clusters to find) and returns the updated image based on the\n",
    "new clusters. (Note: Your function can also return other elements as needed for plotting.)\n",
    "This function will use the scikit-learn KMeans function to find the cluster centers and which\n",
    "pixels belong to which clusters. You will then create an updated image that replaces each pixel value with its corresponding cluster center value. Note that the scikit-learn cluster\n",
    "centers may not be integers. You should convert the cluster centers to integers using floor().\n",
    "We recommend setting the random state option in K-Means function to a fixed value for\n",
    "repeatable results."
   ]
  },
  {
   "cell_type": "code",
   "execution_count": null,
   "id": "c186dbfd",
   "metadata": {},
   "outputs": [],
   "source": []
  },
  {
   "cell_type": "markdown",
   "id": "49ff85bf",
   "metadata": {},
   "source": [
    "Question 2 (40 points – 10 for each image): For each of the four images, try K=4, K=8,\n",
    "and K=16 and visualize the updated image with the new colors based on the cluster centers.\n",
    "You should include a 2x2 figure for each image that shows the original image and the three\n",
    "updated images for the different values of K. Include a brief discussion of which images look\n",
    "acceptable (capturing the details of the original image) and which ones do not. For those\n",
    "that do not look acceptable, comment in the report on why they do not look acceptable\n",
    "(based on which colors were selected as cluster centers)."
   ]
  },
  {
   "cell_type": "code",
   "execution_count": null,
   "id": "8d86a9e6",
   "metadata": {},
   "outputs": [],
   "source": []
  },
  {
   "cell_type": "markdown",
   "id": "3a1d9782",
   "metadata": {},
   "source": [
    "Question 3 (20 points – 5 for each image): For each image, create three histogram plots\n",
    "(one for each value of K) showing the distribution of pixel values across the different cluster\n",
    "centers (how many pixels in the image below to each cluster)."
   ]
  },
  {
   "cell_type": "code",
   "execution_count": null,
   "id": "08e5efe6",
   "metadata": {},
   "outputs": [],
   "source": []
  }
 ],
 "metadata": {
  "kernelspec": {
   "display_name": "Python 3 (ipykernel)",
   "language": "python",
   "name": "python3"
  },
  "language_info": {
   "codemirror_mode": {
    "name": "ipython",
    "version": 3
   },
   "file_extension": ".py",
   "mimetype": "text/x-python",
   "name": "python",
   "nbconvert_exporter": "python",
   "pygments_lexer": "ipython3",
   "version": "3.9.6"
  }
 },
 "nbformat": 4,
 "nbformat_minor": 5
}
