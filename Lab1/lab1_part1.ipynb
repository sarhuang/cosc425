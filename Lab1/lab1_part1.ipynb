{
 "cells": [
  {
   "cell_type": "markdown",
   "id": "01cd99b9",
   "metadata": {},
   "source": [
    "# Part 1: Python Data Manipulation and Processing"
   ]
  },
  {
   "cell_type": "code",
   "execution_count": 1,
   "id": "2a579f9d",
   "metadata": {},
   "outputs": [],
   "source": [
    "import numpy as np\n",
    "import pandas as pd\n",
    "import matplotlib.pyplot as plt"
   ]
  },
  {
   "cell_type": "code",
   "execution_count": 2,
   "id": "c186dbfd",
   "metadata": {},
   "outputs": [
    {
     "name": "stdout",
     "output_type": "stream",
     "text": [
      "          Country  Year      Status  Life_expectancy  Adult_Mortality  \\\n",
      "0     Afghanistan  2015  Developing             65.0            263.0   \n",
      "1     Afghanistan  2014  Developing             59.9            271.0   \n",
      "2     Afghanistan  2013  Developing             59.9            268.0   \n",
      "3     Afghanistan  2012  Developing             59.5            272.0   \n",
      "4     Afghanistan  2011  Developing             59.2            275.0   \n",
      "...           ...   ...         ...              ...              ...   \n",
      "2933     Zimbabwe  2004  Developing             44.3            723.0   \n",
      "2934     Zimbabwe  2003  Developing             44.5            715.0   \n",
      "2935     Zimbabwe  2002  Developing             44.8             73.0   \n",
      "2936     Zimbabwe  2001  Developing             45.3            686.0   \n",
      "2937     Zimbabwe  2000  Developing             46.0            665.0   \n",
      "\n",
      "      infant_deaths  Alcohol  percentage expenditure  Hepatitis_B  Measles  \\\n",
      "0                62     0.01               71.279624         65.0     1154   \n",
      "1                64     0.01               73.523582         62.0      492   \n",
      "2                66     0.01               73.219243         64.0      430   \n",
      "3                69     0.01               78.184215         67.0     2787   \n",
      "4                71     0.01                7.097109         68.0     3013   \n",
      "...             ...      ...                     ...          ...      ...   \n",
      "2933             27     4.36                0.000000         68.0       31   \n",
      "2934             26     4.06                0.000000          7.0      998   \n",
      "2935             25     4.43                0.000000         73.0      304   \n",
      "2936             25     1.72                0.000000         76.0      529   \n",
      "2937             24     1.68                0.000000         79.0     1483   \n",
      "\n",
      "      ...  Polio  Total_expenditure  Diphtheria  HIV/AIDS         GDP  \\\n",
      "0     ...    6.0               8.16        65.0       0.1  584.259210   \n",
      "1     ...   58.0               8.18        62.0       0.1  612.696514   \n",
      "2     ...   62.0               8.13        64.0       0.1  631.744976   \n",
      "3     ...   67.0               8.52        67.0       0.1  669.959000   \n",
      "4     ...   68.0               7.87        68.0       0.1   63.537231   \n",
      "...   ...    ...                ...         ...       ...         ...   \n",
      "2933  ...   67.0               7.13        65.0      33.6  454.366654   \n",
      "2934  ...    7.0               6.52        68.0      36.7  453.351155   \n",
      "2935  ...   73.0               6.53        71.0      39.8   57.348340   \n",
      "2936  ...   76.0               6.16        75.0      42.1  548.587312   \n",
      "2937  ...   78.0               7.10        78.0      43.5  547.358878   \n",
      "\n",
      "      Population   thinness _1-19_years   thinness_5-9_years  \\\n",
      "0     33736494.0                   17.2                 17.3   \n",
      "1       327582.0                   17.5                 17.5   \n",
      "2     31731688.0                   17.7                 17.7   \n",
      "3      3696958.0                   17.9                 18.0   \n",
      "4      2978599.0                   18.2                 18.2   \n",
      "...          ...                    ...                  ...   \n",
      "2933  12777511.0                    9.4                  9.4   \n",
      "2934  12633897.0                    9.8                  9.9   \n",
      "2935    125525.0                    1.2                  1.3   \n",
      "2936  12366165.0                    1.6                  1.7   \n",
      "2937  12222251.0                   11.0                 11.2   \n",
      "\n",
      "      Income_composition_of_resources  Schooling  \n",
      "0                               0.479       10.1  \n",
      "1                               0.476       10.0  \n",
      "2                               0.470        9.9  \n",
      "3                               0.463        9.8  \n",
      "4                               0.454        9.5  \n",
      "...                               ...        ...  \n",
      "2933                            0.407        9.2  \n",
      "2934                            0.418        9.5  \n",
      "2935                            0.427       10.0  \n",
      "2936                            0.427        9.8  \n",
      "2937                            0.434        9.8  \n",
      "\n",
      "[2938 rows x 22 columns]\n"
     ]
    }
   ],
   "source": [
    "# Read in CSV here\n",
    "life_expectancy_data = pd.read_csv(\"Life Expectancy Data.csv\")\n",
    "print(life_expectancy_data)"
   ]
  },
  {
   "cell_type": "markdown",
   "id": "bb820323",
   "metadata": {},
   "source": [
    "Question 1.1 (5 points): Plot the boxplot for life expectancy in developing and developed\n",
    "countries in 2015. Label y-axis and change xticks to appropriate labels for the boxes (Devel-\n",
    "oping and Developed). You should have two boxes in the plot: one for developing and one\n",
    "for developed."
   ]
  },
  {
   "cell_type": "code",
   "execution_count": null,
   "id": "a1af4a7d",
   "metadata": {},
   "outputs": [],
   "source": []
  },
  {
   "cell_type": "markdown",
   "id": "49ff85bf",
   "metadata": {},
   "source": [
    "Question 1.2 (5 points): Create a scatter plot between life expectancy and GDP in 2015.\n",
    "Label axes appropriately."
   ]
  },
  {
   "cell_type": "code",
   "execution_count": null,
   "id": "41879f45",
   "metadata": {},
   "outputs": [],
   "source": []
  },
  {
   "cell_type": "markdown",
   "id": "3a1d9782",
   "metadata": {},
   "source": [
    "Question 1.3 (10 points): Create a stacked histogram for BMI in 2015, where the stacked\n",
    "bars are on status (developed and developing). Don’t forget to include a legend."
   ]
  },
  {
   "cell_type": "code",
   "execution_count": null,
   "id": "520a7061",
   "metadata": {},
   "outputs": [],
   "source": []
  },
  {
   "cell_type": "markdown",
   "id": "e6d6782d",
   "metadata": {},
   "source": [
    "Question 1.4 (10 points): Create a solid line plot showing the average (across all nations)\n",
    "life expectancy changing over time, with the standard deviation above and below shown with\n",
    "filled between plot (use fill between plotting function with alpha = 0.3). Additionally, plot\n",
    "the maximum life expectancy for each year and the minimum life expectancy for each year\n",
    "as dotted line plots over time. Include legend for mean, minimum, and maximum, and don’t\n",
    "forget axes labels."
   ]
  },
  {
   "cell_type": "code",
   "execution_count": null,
   "id": "1c2018fb",
   "metadata": {},
   "outputs": [],
   "source": []
  },
  {
   "cell_type": "markdown",
   "id": "db8f125c",
   "metadata": {},
   "source": [
    "Question 1.5 (15 points): Extract Hepatitis B, Polio, Measles, BMI, Diphtheria, HIV/AIDS\n",
    "for 2015 and remove the rows with NaN elements (use dropna()). Create the correlation\n",
    "coefficient matrix (use np.corrcoef()) and create a heatmap showing the correlations, using\n",
    "pcolor() and matplotlib. Label the rows and columns with the appropriate diseases. Include\n",
    "a colorbar and a label on the colorbar. Which of these two are the most heavily correlated?"
   ]
  },
  {
   "cell_type": "code",
   "execution_count": null,
   "id": "f00224e5",
   "metadata": {},
   "outputs": [],
   "source": []
  }
 ],
 "metadata": {
  "kernelspec": {
   "display_name": "Python 3 (ipykernel)",
   "language": "python",
   "name": "python3"
  },
  "language_info": {
   "codemirror_mode": {
    "name": "ipython",
    "version": 3
   },
   "file_extension": ".py",
   "mimetype": "text/x-python",
   "name": "python",
   "nbconvert_exporter": "python",
   "pygments_lexer": "ipython3",
   "version": "3.9.6"
  }
 },
 "nbformat": 4,
 "nbformat_minor": 5
}
