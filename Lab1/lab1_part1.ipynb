{
 "cells": [
  {
   "cell_type": "markdown",
   "id": "01cd99b9",
   "metadata": {},
   "source": [
    "# Part 1: Python Data Manipulation and Processing"
   ]
  },
  {
   "cell_type": "code",
   "execution_count": null,
   "id": "2a579f9d",
   "metadata": {
    "vscode": {
     "languageId": "plaintext"
    }
   },
   "outputs": [],
   "source": []
  },
  {
   "cell_type": "markdown",
   "id": "bb820323",
   "metadata": {},
   "source": [
    "Question 1.1 (5 points): Plot the boxplot for life expectancy in developing and developed\n",
    "countries in 2015. Label y-axis and change xticks to appropriate labels for the boxes (Devel-\n",
    "oping and Developed). You should have two boxes in the plot: one for developing and one\n",
    "for developed."
   ]
  },
  {
   "cell_type": "code",
   "execution_count": null,
   "id": "a1af4a7d",
   "metadata": {
    "vscode": {
     "languageId": "plaintext"
    }
   },
   "outputs": [],
   "source": []
  },
  {
   "cell_type": "markdown",
   "id": "49ff85bf",
   "metadata": {},
   "source": [
    "Question 1.2 (5 points): Create a scatter plot between life expectancy and GDP in 2015.\n",
    "Label axes appropriately."
   ]
  },
  {
   "cell_type": "code",
   "execution_count": null,
   "id": "41879f45",
   "metadata": {
    "vscode": {
     "languageId": "plaintext"
    }
   },
   "outputs": [],
   "source": []
  },
  {
   "cell_type": "markdown",
   "id": "3a1d9782",
   "metadata": {},
   "source": [
    "Question 1.3 (10 points): Create a stacked histogram for BMI in 2015, where the stacked\n",
    "bars are on status (developed and developing). Don’t forget to include a legend."
   ]
  },
  {
   "cell_type": "code",
   "execution_count": null,
   "id": "520a7061",
   "metadata": {
    "vscode": {
     "languageId": "plaintext"
    }
   },
   "outputs": [],
   "source": []
  },
  {
   "cell_type": "markdown",
   "id": "e6d6782d",
   "metadata": {},
   "source": [
    "Question 1.4 (10 points): Create a solid line plot showing the average (across all nations)\n",
    "life expectancy changing over time, with the standard deviation above and below shown with\n",
    "filled between plot (use fill between plotting function with alpha = 0.3). Additionally, plot\n",
    "the maximum life expectancy for each year and the minimum life expectancy for each year\n",
    "as dotted line plots over time. Include legend for mean, minimum, and maximum, and don’t\n",
    "forget axes labels."
   ]
  },
  {
   "cell_type": "code",
   "execution_count": null,
   "id": "1c2018fb",
   "metadata": {
    "vscode": {
     "languageId": "plaintext"
    }
   },
   "outputs": [],
   "source": []
  },
  {
   "cell_type": "markdown",
   "id": "db8f125c",
   "metadata": {},
   "source": [
    "Question 1.5 (15 points): Extract Hepatitis B, Polio, Measles, BMI, Diphtheria, HIV/AIDS\n",
    "for 2015 and remove the rows with NaN elements (use dropna()). Create the correlation\n",
    "coefficient matrix (use np.corrcoef()) and create a heatmap showing the correlations, using\n",
    "pcolor() and matplotlib. Label the rows and columns with the appropriate diseases. Include\n",
    "a colorbar and a label on the colorbar. Which of these two are the most heavily correlated?"
   ]
  },
  {
   "cell_type": "code",
   "execution_count": null,
   "id": "f00224e5",
   "metadata": {
    "vscode": {
     "languageId": "plaintext"
    }
   },
   "outputs": [],
   "source": []
  }
 ],
 "metadata": {
  "kernelspec": {
   "display_name": "Python 3 (ipykernel)",
   "language": "python",
   "name": "python3"
  },
  "language_info": {
   "codemirror_mode": {
    "name": "ipython",
    "version": 3
   },
   "file_extension": ".py",
   "mimetype": "text/x-python",
   "name": "python",
   "nbconvert_exporter": "python",
   "pygments_lexer": "ipython3",
   "version": "3.9.6"
  }
 },
 "nbformat": 4,
 "nbformat_minor": 5
}
