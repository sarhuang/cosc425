{
 "cells": [
  {
   "cell_type": "markdown",
   "id": "01cd99b9",
   "metadata": {},
   "source": [
    "# Part 1: Python Data Manipulation and Processing"
   ]
  },
  {
   "cell_type": "code",
   "execution_count": 1,
   "id": "2a579f9d",
   "metadata": {},
   "outputs": [],
   "source": [
    "import numpy as np\n",
    "import pandas as pd\n",
    "import matplotlib.pyplot as plt"
   ]
  },
  {
   "cell_type": "code",
   "execution_count": 2,
   "id": "c186dbfd",
   "metadata": {},
   "outputs": [
    {
     "name": "stdout",
     "output_type": "stream",
     "text": [
      "                                 Country  Year      Status  Life_expectancy  \\\n",
      "0                            Afghanistan  2015  Developing             65.0   \n",
      "16                               Albania  2015  Developing             77.8   \n",
      "32                               Algeria  2015  Developing             75.6   \n",
      "48                                Angola  2015  Developing             52.4   \n",
      "64                   Antigua and Barbuda  2015  Developing             76.4   \n",
      "...                                  ...   ...         ...              ...   \n",
      "2858  Venezuela (Bolivarian Republic of)  2015  Developing             74.1   \n",
      "2874                            Viet Nam  2015  Developing             76.0   \n",
      "2890                               Yemen  2015  Developing             65.7   \n",
      "2906                              Zambia  2015  Developing             61.8   \n",
      "2922                            Zimbabwe  2015  Developing             67.0   \n",
      "\n",
      "      Adult_Mortality  infant_deaths  Alcohol  percentage expenditure  \\\n",
      "0               263.0             62     0.01               71.279624   \n",
      "16               74.0              0     4.60              364.975229   \n",
      "32               19.0             21      NaN                0.000000   \n",
      "48              335.0             66      NaN                0.000000   \n",
      "64               13.0              0      NaN                0.000000   \n",
      "...               ...            ...      ...                     ...   \n",
      "2858            157.0              9      NaN                0.000000   \n",
      "2874            127.0             28      NaN                0.000000   \n",
      "2890            224.0             37      NaN                0.000000   \n",
      "2906             33.0             27      NaN                0.000000   \n",
      "2922            336.0             22      NaN                0.000000   \n",
      "\n",
      "      Hepatitis_B  Measles  ...  Polio  Total_expenditure  Diphtheria  \\\n",
      "0            65.0     1154  ...    6.0               8.16        65.0   \n",
      "16           99.0        0  ...   99.0               6.00        99.0   \n",
      "32           95.0       63  ...   95.0                NaN        95.0   \n",
      "48           64.0      118  ...    7.0                NaN        64.0   \n",
      "64           99.0        0  ...   86.0                NaN        99.0   \n",
      "...           ...      ...  ...    ...                ...         ...   \n",
      "2858         87.0        0  ...   87.0                NaN        87.0   \n",
      "2874         97.0      256  ...   97.0                NaN        97.0   \n",
      "2890         69.0      468  ...   63.0                NaN        69.0   \n",
      "2906          9.0        9  ...    9.0                NaN         9.0   \n",
      "2922         87.0        0  ...   88.0                NaN        87.0   \n",
      "\n",
      "      HIV/AIDS           GDP  Population   thinness _1-19_years  \\\n",
      "0          0.1    584.259210  33736494.0                   17.2   \n",
      "16         0.1   3954.227830     28873.0                    1.2   \n",
      "32         0.1   4132.762920  39871528.0                    6.0   \n",
      "48         1.9   3695.793748   2785935.0                    8.3   \n",
      "64         0.2  13566.954100         NaN                    3.3   \n",
      "...        ...           ...         ...                    ...   \n",
      "2858       0.1           NaN         NaN                    1.6   \n",
      "2874       0.1           NaN         NaN                   14.2   \n",
      "2890       0.1           NaN         NaN                   13.6   \n",
      "2906       4.1   1313.889646    161587.0                    6.3   \n",
      "2922       6.2    118.693830  15777451.0                    5.6   \n",
      "\n",
      "       thinness_5-9_years  Income_composition_of_resources  Schooling  \n",
      "0                    17.3                            0.479       10.1  \n",
      "16                    1.3                            0.762       14.2  \n",
      "32                    5.8                            0.743       14.4  \n",
      "48                    8.2                            0.531       11.4  \n",
      "64                    3.3                            0.784       13.9  \n",
      "...                   ...                              ...        ...  \n",
      "2858                  1.5                            0.769       14.3  \n",
      "2874                 14.5                            0.678       12.6  \n",
      "2890                 13.4                            0.499        9.0  \n",
      "2906                  6.1                            0.576       12.5  \n",
      "2922                  5.5                            0.507       10.3  \n",
      "\n",
      "[183 rows x 22 columns]\n"
     ]
    }
   ],
   "source": [
    "# Read in CSV here\n",
    "life_expectancy_data = pd.read_csv(\"Life Expectancy Data.csv\")\n",
    "life_expectancy_data_2015 = life_expectancy_data[life_expectancy_data[\"Year\"] == 2015]\n",
    "print(life_expectancy_data_2015)"
   ]
  },
  {
   "cell_type": "markdown",
   "id": "bb820323",
   "metadata": {},
   "source": [
    "Question 1.1 (5 points): Plot the boxplot for life expectancy in developing and developed countries in 2015. Label y-axis and change xticks to appropriate labels for the boxes (Developing and Developed). You should have two boxes in the plot: one for developing and one for developed."
   ]
  },
  {
   "cell_type": "code",
   "execution_count": 4,
   "id": "1bcff90f",
   "metadata": {},
   "outputs": [
    {
     "data": {
      "image/png": "[encoded data removed]",
      "text/plain": [
       "<Figure size 432x288 with 1 Axes>"
      ]
     },
     "metadata": {
      "needs_background": "light"
     },
     "output_type": "display_data"
    }
   ],
   "source": [
    "statuses = np.unique(life_expectancy_data_2015[\"Status\"]) #Developed, Developing\n",
    "expectancies = []\n",
    "\n",
    "for status in statuses:\n",
    "    expectancy = np.array(life_expectancy_data_2015[(life_expectancy_data_2015[\"Status\"]) == status][\"Life_expectancy\"])\n",
    "    expectancies.append(expectancy)\n",
    "\n",
    "plt.boxplot(expectancies)\n",
    "plt.xticks(range(1,len(statuses)+1), statuses)\n",
    "plt.ylabel(\"Years\")\n",
    "plt.show()"
   ]
  },
  {
   "cell_type": "markdown",
   "id": "49ff85bf",
   "metadata": {},
   "source": [
    "Question 1.2 (5 points): Create a scatter plot between life expectancy and GDP in 2015.\n",
    "Label axes appropriately."
   ]
  },
  {
   "cell_type": "code",
   "execution_count": null,
   "id": "41879f45",
   "metadata": {},
   "outputs": [],
   "source": []
  },
  {
   "cell_type": "markdown",
   "id": "3a1d9782",
   "metadata": {},
   "source": [
    "Question 1.3 (10 points): Create a stacked histogram for BMI in 2015, where the stacked\n",
    "bars are on status (developed and developing). Don’t forget to include a legend."
   ]
  },
  {
   "cell_type": "code",
   "execution_count": null,
   "id": "520a7061",
   "metadata": {},
   "outputs": [],
   "source": []
  },
  {
   "cell_type": "markdown",
   "id": "e6d6782d",
   "metadata": {},
   "source": [
    "Question 1.4 (10 points): Create a solid line plot showing the average (across all nations)\n",
    "life expectancy changing over time, with the standard deviation above and below shown with\n",
    "filled between plot (use fill between plotting function with alpha = 0.3). Additionally, plot\n",
    "the maximum life expectancy for each year and the minimum life expectancy for each year\n",
    "as dotted line plots over time. Include legend for mean, minimum, and maximum, and don’t\n",
    "forget axes labels."
   ]
  },
  {
   "cell_type": "code",
   "execution_count": null,
   "id": "1c2018fb",
   "metadata": {},
   "outputs": [],
   "source": []
  },
  {
   "cell_type": "markdown",
   "id": "db8f125c",
   "metadata": {},
   "source": [
    "Question 1.5 (15 points): Extract Hepatitis B, Polio, Measles, BMI, Diphtheria, HIV/AIDS\n",
    "for 2015 and remove the rows with NaN elements (use dropna()). Create the correlation\n",
    "coefficient matrix (use np.corrcoef()) and create a heatmap showing the correlations, using\n",
    "pcolor() and matplotlib. Label the rows and columns with the appropriate diseases. Include\n",
    "a colorbar and a label on the colorbar. Which of these two are the most heavily correlated?"
   ]
  },
  {
   "cell_type": "code",
   "execution_count": null,
   "id": "f00224e5",
   "metadata": {},
   "outputs": [],
   "source": []
  }
 ],
 "metadata": {
  "kernelspec": {
   "display_name": "Python 3 (ipykernel)",
   "language": "python",
   "name": "python3"
  },
  "language_info": {
   "codemirror_mode": {
    "name": "ipython",
    "version": 3
   },
   "file_extension": ".py",
   "mimetype": "text/x-python",
   "name": "python",
   "nbconvert_exporter": "python",
   "pygments_lexer": "ipython3",
   "version": "3.9.6"
  }
 },
 "nbformat": 4,
 "nbformat_minor": 5
}
