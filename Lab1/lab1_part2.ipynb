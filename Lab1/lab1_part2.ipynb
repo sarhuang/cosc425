{
 "cells": [
  {
   "cell_type": "markdown",
   "id": "01cd99b9",
   "metadata": {},
   "source": [
    "# Part 2: Decision Trees"
   ]
  },
  {
   "cell_type": "code",
   "execution_count": 6,
   "id": "2a579f9d",
   "metadata": {},
   "outputs": [],
   "source": [
    "import numpy as np\n",
    "import pandas as pd\n",
    "import matplotlib.pyplot as plt\n",
    "\n",
    "from sklearn.datasets import load_iris\n",
    "from sklearn.model_selection import train_test_split\n",
    "from sklearn import tree\n",
    "from sklearn.metrics import accuracy_score"
   ]
  },
  {
   "cell_type": "markdown",
   "id": "e0fe6642",
   "metadata": {},
   "source": [
    "First, load in the data, and drop all rows that have NaN values. Then create X and y\n",
    "numpy arrays, where X is a matrix so that all of the rows are the different rows from the\n",
    "dataframes and the columns are the features listed above, and y is the numpy array of the\n",
    "Status column. Once you have completed this, X and y should both have 1649 rows.\n",
    "The next step is to create a train test split on the data. We’re going to use a test size of\n",
    "0.33 and a random state of 42."
   ]
  },
  {
   "cell_type": "code",
   "execution_count": 7,
   "id": "c186dbfd",
   "metadata": {},
   "outputs": [],
   "source": [
    "# Read in CSV here\n",
    "life_expectancy_data = pd.read_csv(\"Life Expectancy Data.csv\")\n",
    "life_expectancy_data = life_expectancy_data.dropna()\n",
    "\n",
    "X = np.c_[life_expectancy_data[\"Hepatitis_B\"], \n",
    "            life_expectancy_data[\"Polio\"],\n",
    "            life_expectancy_data[\"Measles\"],\n",
    "            life_expectancy_data[\"BMI\"],\n",
    "            life_expectancy_data[\"Diphtheria\"],\n",
    "            life_expectancy_data[\"HIV/AIDS\"],\n",
    "            life_expectancy_data[\"Adult_Mortality\"]]\n",
    "\n",
    "y = np.array(life_expectancy_data[\"Status\"])\n",
    "\n",
    "X_train, X_test, y_train, y_test = train_test_split(X, y, test_size=0.33, random_state=42)\n"
   ]
  },
  {
   "cell_type": "markdown",
   "id": "bb820323",
   "metadata": {},
   "source": [
    "Question 2.1 (10 points): What is the information gain if the split is on BMI < 50? Look\n",
    "at slides from lecture on calculating information gain to use the correct formula"
   ]
  },
  {
   "cell_type": "code",
   "execution_count": null,
   "id": "4741d62b",
   "metadata": {},
   "outputs": [],
   "source": []
  },
  {
   "cell_type": "markdown",
   "id": "49ff85bf",
   "metadata": {},
   "source": [
    "Question 2.2 (10 points): Create a decision tree classifier with the entropy criterion and fit\n",
    "to the training data. What is the accuracy score of this classifier on the testing set? What\n",
    "is the first decision that is used to split the data (which feature does it use and what value\n",
    "does it split on)?"
   ]
  },
  {
   "cell_type": "code",
   "execution_count": null,
   "id": "c78d488a",
   "metadata": {},
   "outputs": [],
   "source": []
  },
  {
   "cell_type": "markdown",
   "id": "3a1d9782",
   "metadata": {},
   "source": [
    "Question 2.3 (10 points): Create decision trees with max depths from 2 to 20 and calculate\n",
    "the training and testing accuracy for each decision tree and display in a table. Which one is\n",
    "best? Provide a short (1-2 sentence) explanation for why that depth is the best performing."
   ]
  },
  {
   "cell_type": "code",
   "execution_count": null,
   "id": "61e006ee",
   "metadata": {},
   "outputs": [],
   "source": []
  },
  {
   "cell_type": "markdown",
   "id": "e6d6782d",
   "metadata": {},
   "source": [
    "Question 2.4 (5 points): Show the diagram of the decision three with max depth of 2."
   ]
  },
  {
   "cell_type": "code",
   "execution_count": null,
   "id": "1af52178",
   "metadata": {},
   "outputs": [],
   "source": []
  },
  {
   "cell_type": "markdown",
   "id": "db8f125c",
   "metadata": {},
   "source": [
    "Question 2.5 (5 points): For the best performing tree in Question 2.3 (in terms of testing\n",
    "results), show the confusion matrices that are produced for the training set and testing set."
   ]
  },
  {
   "cell_type": "code",
   "execution_count": null,
   "id": "0763df0f",
   "metadata": {},
   "outputs": [],
   "source": []
  },
  {
   "cell_type": "markdown",
   "id": "6abb15f1",
   "metadata": {},
   "source": [
    "Question 2.6 (15 points): Create two additional decision trees, where min samples leaf set\n",
    "is set to 10 and min samples split set to 2 and a second where min samples leaf set is set\n",
    "to 10 and min samples split set to 30. Calculate the training and testing scores for each.\n",
    "Which of these performs better? Provide a short explanation (2-3 sentences) for why one\n",
    "performs better than the other."
   ]
  },
  {
   "cell_type": "code",
   "execution_count": null,
   "id": "3b1b1fc1",
   "metadata": {},
   "outputs": [],
   "source": []
  }
 ],
 "metadata": {
  "kernelspec": {
   "display_name": "Python 3 (ipykernel)",
   "language": "python",
   "name": "python3"
  },
  "language_info": {
   "codemirror_mode": {
    "name": "ipython",
    "version": 3
   },
   "file_extension": ".py",
   "mimetype": "text/x-python",
   "name": "python",
   "nbconvert_exporter": "python",
   "pygments_lexer": "ipython3",
   "version": "3.9.6"
  }
 },
 "nbformat": 4,
 "nbformat_minor": 5
}
