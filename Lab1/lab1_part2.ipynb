{
 "cells": [
  {
   "cell_type": "markdown",
   "id": "01cd99b9",
   "metadata": {},
   "source": [
    "# Part 2: Decision Trees"
   ]
  },
  {
   "cell_type": "code",
   "execution_count": 74,
   "id": "2a579f9d",
   "metadata": {},
   "outputs": [],
   "source": [
    "import numpy as np\n",
    "import pandas as pd\n",
    "import matplotlib.pyplot as plt"
   ]
  },
  {
   "cell_type": "code",
   "execution_count": 75,
   "id": "c186dbfd",
   "metadata": {},
   "outputs": [],
   "source": [
    "# Read in CSV here\n",
    "life_expectancy_data = pd.read_csv(\"Life Expectancy Data.csv\")\n",
    "life_expectancy_data_2015 = life_expectancy_data[life_expectancy_data[\"Year\"] == 2015]\n",
    "#print(life_expectancy_data_2015)"
   ]
  },
  {
   "cell_type": "markdown",
   "id": "bb820323",
   "metadata": {},
   "source": [
    "Question 2.1 (10 points): What is the information gain if the split is on BMI < 50? Look\n",
    "at slides from lecture on calculating information gain to use the correct formula"
   ]
  },
  {
   "cell_type": "code",
   "execution_count": null,
   "id": "4741d62b",
   "metadata": {},
   "outputs": [],
   "source": []
  },
  {
   "cell_type": "markdown",
   "id": "49ff85bf",
   "metadata": {},
   "source": [
    "Question 2.2 (10 points): Create a decision tree classifier with the entropy criterion and fit\n",
    "to the training data. What is the accuracy score of this classifier on the testing set? What\n",
    "is the first decision that is used to split the data (which feature does it use and what value\n",
    "does it split on)?"
   ]
  },
  {
   "cell_type": "code",
   "execution_count": null,
   "id": "c78d488a",
   "metadata": {},
   "outputs": [],
   "source": []
  },
  {
   "cell_type": "markdown",
   "id": "3a1d9782",
   "metadata": {},
   "source": [
    "Question 2.3 (10 points): Create decision trees with max depths from 2 to 20 and calculate\n",
    "the training and testing accuracy for each decision tree and display in a table. Which one is\n",
    "best? Provide a short (1-2 sentence) explanation for why that depth is the best performing."
   ]
  },
  {
   "cell_type": "code",
   "execution_count": null,
   "id": "61e006ee",
   "metadata": {},
   "outputs": [],
   "source": []
  },
  {
   "cell_type": "markdown",
   "id": "e6d6782d",
   "metadata": {},
   "source": [
    "Question 2.4 (5 points): Show the diagram of the decision three with max depth of 2."
   ]
  },
  {
   "cell_type": "code",
   "execution_count": null,
   "id": "1af52178",
   "metadata": {},
   "outputs": [],
   "source": []
  },
  {
   "cell_type": "markdown",
   "id": "db8f125c",
   "metadata": {},
   "source": [
    "Question 2.5 (5 points): For the best performing tree in Question 2.3 (in terms of testing\n",
    "results), show the confusion matrices that are produced for the training set and testing set."
   ]
  },
  {
   "cell_type": "code",
   "execution_count": null,
   "id": "0763df0f",
   "metadata": {},
   "outputs": [],
   "source": []
  },
  {
   "cell_type": "markdown",
   "id": "6abb15f1",
   "metadata": {},
   "source": [
    "Question 2.6 (15 points): Create two additional decision trees, where min samples leaf set\n",
    "is set to 10 and min samples split set to 2 and a second where min samples leaf set is set\n",
    "to 10 and min samples split set to 30. Calculate the training and testing scores for each.\n",
    "Which of these performs better? Provide a short explanation (2-3 sentences) for why one\n",
    "performs better than the other."
   ]
  },
  {
   "cell_type": "code",
   "execution_count": null,
   "id": "3b1b1fc1",
   "metadata": {},
   "outputs": [],
   "source": []
  }
 ],
 "metadata": {
  "kernelspec": {
   "display_name": "Python 3 (ipykernel)",
   "language": "python",
   "name": "python3"
  },
  "language_info": {
   "codemirror_mode": {
    "name": "ipython",
    "version": 3
   },
   "file_extension": ".py",
   "mimetype": "text/x-python",
   "name": "python",
   "nbconvert_exporter": "python",
   "pygments_lexer": "ipython3",
   "version": "3.9.6"
  }
 },
 "nbformat": 4,
 "nbformat_minor": 5
}
